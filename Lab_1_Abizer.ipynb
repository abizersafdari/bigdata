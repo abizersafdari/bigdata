{
  "nbformat": 4,
  "nbformat_minor": 0,
  "metadata": {
    "colab": {
      "name": "Lab_1_Abizer.ipynb",
      "provenance": [],
      "collapsed_sections": [],
      "toc_visible": true
    },
    "kernelspec": {
      "name": "python3",
      "display_name": "Python 3"
    },
    "language_info": {
      "name": "python"
    }
  },
  "cells": [
    {
      "cell_type": "code",
      "metadata": {
        "colab": {
          "base_uri": "https://localhost:8080/"
        },
        "id": "XCcoOpzDpHw-",
        "outputId": "29c461c5-79d7-461a-e15f-1d1863ec314c"
      },
      "source": [
        "from google.colab import drive\n",
        "drive.mount('/content/drive')"
      ],
      "execution_count": 1,
      "outputs": [
        {
          "output_type": "stream",
          "text": [
            "Mounted at /content/drive\n"
          ],
          "name": "stdout"
        }
      ]
    },
    {
      "cell_type": "code",
      "metadata": {
        "colab": {
          "base_uri": "https://localhost:8080/"
        },
        "id": "HnBsVQe3qyvG",
        "outputId": "5abbf111-0c8a-4daf-ce2c-bf1cb1292215"
      },
      "source": [
        "!pip install pyspark"
      ],
      "execution_count": 2,
      "outputs": [
        {
          "output_type": "stream",
          "text": [
            "Collecting pyspark\n",
            "\u001b[?25l  Downloading https://files.pythonhosted.org/packages/89/db/e18cfd78e408de957821ec5ca56de1250645b05f8523d169803d8df35a64/pyspark-3.1.2.tar.gz (212.4MB)\n",
            "\u001b[K     |████████████████████████████████| 212.4MB 84kB/s \n",
            "\u001b[?25hCollecting py4j==0.10.9\n",
            "\u001b[?25l  Downloading https://files.pythonhosted.org/packages/9e/b6/6a4fb90cd235dc8e265a6a2067f2a2c99f0d91787f06aca4bcf7c23f3f80/py4j-0.10.9-py2.py3-none-any.whl (198kB)\n",
            "\u001b[K     |████████████████████████████████| 204kB 22.2MB/s \n",
            "\u001b[?25hBuilding wheels for collected packages: pyspark\n",
            "  Building wheel for pyspark (setup.py) ... \u001b[?25l\u001b[?25hdone\n",
            "  Created wheel for pyspark: filename=pyspark-3.1.2-py2.py3-none-any.whl size=212880768 sha256=999af99f9c349b50d9935c0f1149944f129081d617da3256a382ace90fa2f596\n",
            "  Stored in directory: /root/.cache/pip/wheels/40/1b/2c/30f43be2627857ab80062bef1527c0128f7b4070b6b2d02139\n",
            "Successfully built pyspark\n",
            "Installing collected packages: py4j, pyspark\n",
            "Successfully installed py4j-0.10.9 pyspark-3.1.2\n"
          ],
          "name": "stdout"
        }
      ]
    },
    {
      "cell_type": "code",
      "metadata": {
        "id": "5Ie_nng2pFfr"
      },
      "source": [
        "from pyspark.sql import SparkSession\n",
        "import pandas as pd\n",
        "import pyarrow as pa\n",
        "import pyarrow.parquet as pq\n",
        "from pyspark.sql.functions import *\n",
        "from pyspark.sql.functions import col\n",
        "from pyspark.sql.functions import concat\n",
        "from pyspark.sql.functions import udf\n",
        "from pyspark.sql.functions import pandas_udf\n",
        "from pyspark.sql.types import LongType"
      ],
      "execution_count": 4,
      "outputs": []
    },
    {
      "cell_type": "markdown",
      "metadata": {
        "id": "8Ev1s_H9YVgS"
      },
      "source": [
        "# Task 1 "
      ]
    },
    {
      "cell_type": "code",
      "metadata": {
        "id": "DsVVUmhVrE41"
      },
      "source": [
        "spark=SparkSession.builder.appName(\"App_1\").getOrCreate()"
      ],
      "execution_count": 10,
      "outputs": []
    },
    {
      "cell_type": "code",
      "metadata": {
        "id": "7ARNg8aYrJqH"
      },
      "source": [
        "df=spark.read.json(\"/content/drive/My Drive/abizer/bigdata20/posts_api.json\")"
      ],
      "execution_count": 11,
      "outputs": []
    },
    {
      "cell_type": "code",
      "metadata": {
        "colab": {
          "base_uri": "https://localhost:8080/"
        },
        "id": "YqQ4igZVrcPj",
        "outputId": "1528bf5f-29c1-4ea1-b299-5dda0a03feed"
      },
      "source": [
        "df.printSchema()"
      ],
      "execution_count": null,
      "outputs": [
        {
          "output_type": "stream",
          "text": [
            "root\n",
            " |-- attachments: array (nullable = true)\n",
            " |    |-- element: struct (containsNull = true)\n",
            " |    |    |-- album: struct (nullable = true)\n",
            " |    |    |    |-- created: long (nullable = true)\n",
            " |    |    |    |-- description: string (nullable = true)\n",
            " |    |    |    |-- id: string (nullable = true)\n",
            " |    |    |    |-- owner_id: long (nullable = true)\n",
            " |    |    |    |-- size: long (nullable = true)\n",
            " |    |    |    |-- thumb: struct (nullable = true)\n",
            " |    |    |    |    |-- access_key: string (nullable = true)\n",
            " |    |    |    |    |-- album_id: long (nullable = true)\n",
            " |    |    |    |    |-- date: long (nullable = true)\n",
            " |    |    |    |    |-- id: long (nullable = true)\n",
            " |    |    |    |    |-- owner_id: long (nullable = true)\n",
            " |    |    |    |    |-- sizes: array (nullable = true)\n",
            " |    |    |    |    |    |-- element: struct (containsNull = true)\n",
            " |    |    |    |    |    |    |-- height: long (nullable = true)\n",
            " |    |    |    |    |    |    |-- type: string (nullable = true)\n",
            " |    |    |    |    |    |    |-- url: string (nullable = true)\n",
            " |    |    |    |    |    |    |-- width: long (nullable = true)\n",
            " |    |    |    |    |-- text: string (nullable = true)\n",
            " |    |    |    |    |-- user_id: long (nullable = true)\n",
            " |    |    |    |-- title: string (nullable = true)\n",
            " |    |    |    |-- updated: long (nullable = true)\n",
            " |    |    |-- audio: struct (nullable = true)\n",
            " |    |    |    |-- album_id: long (nullable = true)\n",
            " |    |    |    |-- artist: string (nullable = true)\n",
            " |    |    |    |-- content_restricted: long (nullable = true)\n",
            " |    |    |    |-- date: long (nullable = true)\n",
            " |    |    |    |-- duration: long (nullable = true)\n",
            " |    |    |    |-- genre_id: long (nullable = true)\n",
            " |    |    |    |-- id: long (nullable = true)\n",
            " |    |    |    |-- is_hq: boolean (nullable = true)\n",
            " |    |    |    |-- lyrics_id: long (nullable = true)\n",
            " |    |    |    |-- no_search: long (nullable = true)\n",
            " |    |    |    |-- owner_id: long (nullable = true)\n",
            " |    |    |    |-- title: string (nullable = true)\n",
            " |    |    |    |-- url: string (nullable = true)\n",
            " |    |    |-- doc: struct (nullable = true)\n",
            " |    |    |    |-- access_key: string (nullable = true)\n",
            " |    |    |    |-- date: long (nullable = true)\n",
            " |    |    |    |-- ext: string (nullable = true)\n",
            " |    |    |    |-- id: long (nullable = true)\n",
            " |    |    |    |-- owner_id: long (nullable = true)\n",
            " |    |    |    |-- preview: struct (nullable = true)\n",
            " |    |    |    |    |-- photo: struct (nullable = true)\n",
            " |    |    |    |    |    |-- sizes: array (nullable = true)\n",
            " |    |    |    |    |    |    |-- element: struct (containsNull = true)\n",
            " |    |    |    |    |    |    |    |-- height: long (nullable = true)\n",
            " |    |    |    |    |    |    |    |-- src: string (nullable = true)\n",
            " |    |    |    |    |    |    |    |-- type: string (nullable = true)\n",
            " |    |    |    |    |    |    |    |-- width: long (nullable = true)\n",
            " |    |    |    |    |-- video: struct (nullable = true)\n",
            " |    |    |    |    |    |-- file_size: long (nullable = true)\n",
            " |    |    |    |    |    |-- height: long (nullable = true)\n",
            " |    |    |    |    |    |-- src: string (nullable = true)\n",
            " |    |    |    |    |    |-- width: long (nullable = true)\n",
            " |    |    |    |-- size: long (nullable = true)\n",
            " |    |    |    |-- title: string (nullable = true)\n",
            " |    |    |    |-- type: long (nullable = true)\n",
            " |    |    |    |-- url: string (nullable = true)\n",
            " |    |    |-- graffiti: struct (nullable = true)\n",
            " |    |    |    |-- id: long (nullable = true)\n",
            " |    |    |    |-- owner_id: long (nullable = true)\n",
            " |    |    |    |-- photo_200: string (nullable = true)\n",
            " |    |    |    |-- photo_586: string (nullable = true)\n",
            " |    |    |-- link: struct (nullable = true)\n",
            " |    |    |    |-- button: struct (nullable = true)\n",
            " |    |    |    |    |-- action: struct (nullable = true)\n",
            " |    |    |    |    |    |-- type: string (nullable = true)\n",
            " |    |    |    |    |    |-- url: string (nullable = true)\n",
            " |    |    |    |    |-- title: string (nullable = true)\n",
            " |    |    |    |-- button_action: string (nullable = true)\n",
            " |    |    |    |-- button_text: string (nullable = true)\n",
            " |    |    |    |-- caption: string (nullable = true)\n",
            " |    |    |    |-- description: string (nullable = true)\n",
            " |    |    |    |-- photo: struct (nullable = true)\n",
            " |    |    |    |    |-- album_id: long (nullable = true)\n",
            " |    |    |    |    |-- date: long (nullable = true)\n",
            " |    |    |    |    |-- id: long (nullable = true)\n",
            " |    |    |    |    |-- owner_id: long (nullable = true)\n",
            " |    |    |    |    |-- post_id: long (nullable = true)\n",
            " |    |    |    |    |-- sizes: array (nullable = true)\n",
            " |    |    |    |    |    |-- element: struct (containsNull = true)\n",
            " |    |    |    |    |    |    |-- height: long (nullable = true)\n",
            " |    |    |    |    |    |    |-- type: string (nullable = true)\n",
            " |    |    |    |    |    |    |-- url: string (nullable = true)\n",
            " |    |    |    |    |    |    |-- width: long (nullable = true)\n",
            " |    |    |    |    |-- text: string (nullable = true)\n",
            " |    |    |    |    |-- user_id: long (nullable = true)\n",
            " |    |    |    |-- target: string (nullable = true)\n",
            " |    |    |    |-- title: string (nullable = true)\n",
            " |    |    |    |-- url: string (nullable = true)\n",
            " |    |    |-- photo: struct (nullable = true)\n",
            " |    |    |    |-- access_key: string (nullable = true)\n",
            " |    |    |    |-- album_id: long (nullable = true)\n",
            " |    |    |    |-- date: long (nullable = true)\n",
            " |    |    |    |-- id: long (nullable = true)\n",
            " |    |    |    |-- lat: double (nullable = true)\n",
            " |    |    |    |-- long: double (nullable = true)\n",
            " |    |    |    |-- owner_id: long (nullable = true)\n",
            " |    |    |    |-- post_id: long (nullable = true)\n",
            " |    |    |    |-- sizes: array (nullable = true)\n",
            " |    |    |    |    |-- element: struct (containsNull = true)\n",
            " |    |    |    |    |    |-- height: long (nullable = true)\n",
            " |    |    |    |    |    |-- type: string (nullable = true)\n",
            " |    |    |    |    |    |-- url: string (nullable = true)\n",
            " |    |    |    |    |    |-- width: long (nullable = true)\n",
            " |    |    |    |-- text: string (nullable = true)\n",
            " |    |    |    |-- user_id: long (nullable = true)\n",
            " |    |    |-- podcast: struct (nullable = true)\n",
            " |    |    |    |-- artist: string (nullable = true)\n",
            " |    |    |    |-- date: long (nullable = true)\n",
            " |    |    |    |-- duration: long (nullable = true)\n",
            " |    |    |    |-- id: long (nullable = true)\n",
            " |    |    |    |-- lyrics_id: long (nullable = true)\n",
            " |    |    |    |-- no_search: long (nullable = true)\n",
            " |    |    |    |-- owner_id: long (nullable = true)\n",
            " |    |    |    |-- podcast_info: struct (nullable = true)\n",
            " |    |    |    |    |-- cover: struct (nullable = true)\n",
            " |    |    |    |    |    |-- sizes: array (nullable = true)\n",
            " |    |    |    |    |    |    |-- element: struct (containsNull = true)\n",
            " |    |    |    |    |    |    |    |-- height: long (nullable = true)\n",
            " |    |    |    |    |    |    |    |-- type: string (nullable = true)\n",
            " |    |    |    |    |    |    |    |-- url: string (nullable = true)\n",
            " |    |    |    |    |    |    |    |-- width: long (nullable = true)\n",
            " |    |    |    |    |-- description: string (nullable = true)\n",
            " |    |    |    |    |-- plays: long (nullable = true)\n",
            " |    |    |    |-- title: string (nullable = true)\n",
            " |    |    |    |-- url: string (nullable = true)\n",
            " |    |    |-- poll: struct (nullable = true)\n",
            " |    |    |    |-- anonymous: long (nullable = true)\n",
            " |    |    |    |-- answer_id: long (nullable = true)\n",
            " |    |    |    |-- answers: array (nullable = true)\n",
            " |    |    |    |    |-- element: struct (containsNull = true)\n",
            " |    |    |    |    |    |-- id: long (nullable = true)\n",
            " |    |    |    |    |    |-- rate: double (nullable = true)\n",
            " |    |    |    |    |    |-- text: string (nullable = true)\n",
            " |    |    |    |    |    |-- votes: long (nullable = true)\n",
            " |    |    |    |-- created: long (nullable = true)\n",
            " |    |    |    |-- id: long (nullable = true)\n",
            " |    |    |    |-- owner_id: long (nullable = true)\n",
            " |    |    |    |-- question: string (nullable = true)\n",
            " |    |    |    |-- votes: long (nullable = true)\n",
            " |    |    |-- posted_photo: struct (nullable = true)\n",
            " |    |    |    |-- id: long (nullable = true)\n",
            " |    |    |    |-- owner_id: long (nullable = true)\n",
            " |    |    |    |-- photo_130: string (nullable = true)\n",
            " |    |    |    |-- photo_604: string (nullable = true)\n",
            " |    |    |-- type: string (nullable = true)\n",
            " |    |    |-- video: struct (nullable = true)\n",
            " |    |    |    |-- access_key: string (nullable = true)\n",
            " |    |    |    |-- album_id: long (nullable = true)\n",
            " |    |    |    |-- can_add: long (nullable = true)\n",
            " |    |    |    |-- comments: long (nullable = true)\n",
            " |    |    |    |-- content_restricted: long (nullable = true)\n",
            " |    |    |    |-- date: long (nullable = true)\n",
            " |    |    |    |-- description: string (nullable = true)\n",
            " |    |    |    |-- duration: long (nullable = true)\n",
            " |    |    |    |-- first_frame_1024: string (nullable = true)\n",
            " |    |    |    |-- first_frame_1280: string (nullable = true)\n",
            " |    |    |    |-- first_frame_130: string (nullable = true)\n",
            " |    |    |    |-- first_frame_160: string (nullable = true)\n",
            " |    |    |    |-- first_frame_320: string (nullable = true)\n",
            " |    |    |    |-- first_frame_4096: string (nullable = true)\n",
            " |    |    |    |-- first_frame_720: string (nullable = true)\n",
            " |    |    |    |-- first_frame_800: string (nullable = true)\n",
            " |    |    |    |-- height: long (nullable = true)\n",
            " |    |    |    |-- id: long (nullable = true)\n",
            " |    |    |    |-- is_private: long (nullable = true)\n",
            " |    |    |    |-- local_views: long (nullable = true)\n",
            " |    |    |    |-- owner_id: long (nullable = true)\n",
            " |    |    |    |-- photo_1280: string (nullable = true)\n",
            " |    |    |    |-- photo_130: string (nullable = true)\n",
            " |    |    |    |-- photo_320: string (nullable = true)\n",
            " |    |    |    |-- photo_640: string (nullable = true)\n",
            " |    |    |    |-- photo_800: string (nullable = true)\n",
            " |    |    |    |-- platform: string (nullable = true)\n",
            " |    |    |    |-- repeat: long (nullable = true)\n",
            " |    |    |    |-- title: string (nullable = true)\n",
            " |    |    |    |-- track_code: string (nullable = true)\n",
            " |    |    |    |-- user_id: long (nullable = true)\n",
            " |    |    |    |-- views: long (nullable = true)\n",
            " |    |    |    |-- width: long (nullable = true)\n",
            " |-- comments: struct (nullable = true)\n",
            " |    |-- can_post: long (nullable = true)\n",
            " |    |-- count: long (nullable = true)\n",
            " |    |-- groups_can_post: boolean (nullable = true)\n",
            " |-- copy_history: array (nullable = true)\n",
            " |    |-- element: struct (containsNull = true)\n",
            " |    |    |-- attachments: array (nullable = true)\n",
            " |    |    |    |-- element: struct (containsNull = true)\n",
            " |    |    |    |    |-- album: struct (nullable = true)\n",
            " |    |    |    |    |    |-- created: long (nullable = true)\n",
            " |    |    |    |    |    |-- description: string (nullable = true)\n",
            " |    |    |    |    |    |-- id: string (nullable = true)\n",
            " |    |    |    |    |    |-- owner_id: long (nullable = true)\n",
            " |    |    |    |    |    |-- size: long (nullable = true)\n",
            " |    |    |    |    |    |-- thumb: struct (nullable = true)\n",
            " |    |    |    |    |    |    |-- access_key: string (nullable = true)\n",
            " |    |    |    |    |    |    |-- album_id: long (nullable = true)\n",
            " |    |    |    |    |    |    |-- date: long (nullable = true)\n",
            " |    |    |    |    |    |    |-- id: long (nullable = true)\n",
            " |    |    |    |    |    |    |-- owner_id: long (nullable = true)\n",
            " |    |    |    |    |    |    |-- sizes: array (nullable = true)\n",
            " |    |    |    |    |    |    |    |-- element: struct (containsNull = true)\n",
            " |    |    |    |    |    |    |    |    |-- height: long (nullable = true)\n",
            " |    |    |    |    |    |    |    |    |-- type: string (nullable = true)\n",
            " |    |    |    |    |    |    |    |    |-- url: string (nullable = true)\n",
            " |    |    |    |    |    |    |    |    |-- width: long (nullable = true)\n",
            " |    |    |    |    |    |    |-- text: string (nullable = true)\n",
            " |    |    |    |    |    |    |-- user_id: long (nullable = true)\n",
            " |    |    |    |    |    |-- title: string (nullable = true)\n",
            " |    |    |    |    |    |-- updated: long (nullable = true)\n",
            " |    |    |    |    |-- audio: struct (nullable = true)\n",
            " |    |    |    |    |    |-- album_id: long (nullable = true)\n",
            " |    |    |    |    |    |-- artist: string (nullable = true)\n",
            " |    |    |    |    |    |-- content_restricted: long (nullable = true)\n",
            " |    |    |    |    |    |-- date: long (nullable = true)\n",
            " |    |    |    |    |    |-- duration: long (nullable = true)\n",
            " |    |    |    |    |    |-- genre_id: long (nullable = true)\n",
            " |    |    |    |    |    |-- id: long (nullable = true)\n",
            " |    |    |    |    |    |-- is_hq: boolean (nullable = true)\n",
            " |    |    |    |    |    |-- lyrics_id: long (nullable = true)\n",
            " |    |    |    |    |    |-- no_search: long (nullable = true)\n",
            " |    |    |    |    |    |-- owner_id: long (nullable = true)\n",
            " |    |    |    |    |    |-- title: string (nullable = true)\n",
            " |    |    |    |    |    |-- url: string (nullable = true)\n",
            " |    |    |    |    |-- doc: struct (nullable = true)\n",
            " |    |    |    |    |    |-- access_key: string (nullable = true)\n",
            " |    |    |    |    |    |-- date: long (nullable = true)\n",
            " |    |    |    |    |    |-- ext: string (nullable = true)\n",
            " |    |    |    |    |    |-- id: long (nullable = true)\n",
            " |    |    |    |    |    |-- owner_id: long (nullable = true)\n",
            " |    |    |    |    |    |-- preview: struct (nullable = true)\n",
            " |    |    |    |    |    |    |-- photo: struct (nullable = true)\n",
            " |    |    |    |    |    |    |    |-- sizes: array (nullable = true)\n",
            " |    |    |    |    |    |    |    |    |-- element: struct (containsNull = true)\n",
            " |    |    |    |    |    |    |    |    |    |-- height: long (nullable = true)\n",
            " |    |    |    |    |    |    |    |    |    |-- src: string (nullable = true)\n",
            " |    |    |    |    |    |    |    |    |    |-- type: string (nullable = true)\n",
            " |    |    |    |    |    |    |    |    |    |-- width: long (nullable = true)\n",
            " |    |    |    |    |    |    |-- video: struct (nullable = true)\n",
            " |    |    |    |    |    |    |    |-- file_size: long (nullable = true)\n",
            " |    |    |    |    |    |    |    |-- height: long (nullable = true)\n",
            " |    |    |    |    |    |    |    |-- src: string (nullable = true)\n",
            " |    |    |    |    |    |    |    |-- width: long (nullable = true)\n",
            " |    |    |    |    |    |-- size: long (nullable = true)\n",
            " |    |    |    |    |    |-- title: string (nullable = true)\n",
            " |    |    |    |    |    |-- type: long (nullable = true)\n",
            " |    |    |    |    |    |-- url: string (nullable = true)\n",
            " |    |    |    |    |-- link: struct (nullable = true)\n",
            " |    |    |    |    |    |-- button: struct (nullable = true)\n",
            " |    |    |    |    |    |    |-- action: struct (nullable = true)\n",
            " |    |    |    |    |    |    |    |-- type: string (nullable = true)\n",
            " |    |    |    |    |    |    |    |-- url: string (nullable = true)\n",
            " |    |    |    |    |    |    |-- title: string (nullable = true)\n",
            " |    |    |    |    |    |-- button_action: string (nullable = true)\n",
            " |    |    |    |    |    |-- button_text: string (nullable = true)\n",
            " |    |    |    |    |    |-- caption: string (nullable = true)\n",
            " |    |    |    |    |    |-- description: string (nullable = true)\n",
            " |    |    |    |    |    |-- photo: struct (nullable = true)\n",
            " |    |    |    |    |    |    |-- album_id: long (nullable = true)\n",
            " |    |    |    |    |    |    |-- date: long (nullable = true)\n",
            " |    |    |    |    |    |    |-- id: long (nullable = true)\n",
            " |    |    |    |    |    |    |-- owner_id: long (nullable = true)\n",
            " |    |    |    |    |    |    |-- post_id: long (nullable = true)\n",
            " |    |    |    |    |    |    |-- sizes: array (nullable = true)\n",
            " |    |    |    |    |    |    |    |-- element: struct (containsNull = true)\n",
            " |    |    |    |    |    |    |    |    |-- height: long (nullable = true)\n",
            " |    |    |    |    |    |    |    |    |-- type: string (nullable = true)\n",
            " |    |    |    |    |    |    |    |    |-- url: string (nullable = true)\n",
            " |    |    |    |    |    |    |    |    |-- width: long (nullable = true)\n",
            " |    |    |    |    |    |    |-- text: string (nullable = true)\n",
            " |    |    |    |    |    |    |-- user_id: long (nullable = true)\n",
            " |    |    |    |    |    |-- target: string (nullable = true)\n",
            " |    |    |    |    |    |-- title: string (nullable = true)\n",
            " |    |    |    |    |    |-- url: string (nullable = true)\n",
            " |    |    |    |    |-- page: struct (nullable = true)\n",
            " |    |    |    |    |    |-- created: long (nullable = true)\n",
            " |    |    |    |    |    |-- edited: long (nullable = true)\n",
            " |    |    |    |    |    |-- group_id: long (nullable = true)\n",
            " |    |    |    |    |    |-- id: long (nullable = true)\n",
            " |    |    |    |    |    |-- parent2: string (nullable = true)\n",
            " |    |    |    |    |    |-- title: string (nullable = true)\n",
            " |    |    |    |    |    |-- view_url: string (nullable = true)\n",
            " |    |    |    |    |    |-- views: long (nullable = true)\n",
            " |    |    |    |    |    |-- who_can_edit: long (nullable = true)\n",
            " |    |    |    |    |    |-- who_can_view: long (nullable = true)\n",
            " |    |    |    |    |-- photo: struct (nullable = true)\n",
            " |    |    |    |    |    |-- access_key: string (nullable = true)\n",
            " |    |    |    |    |    |-- album_id: long (nullable = true)\n",
            " |    |    |    |    |    |-- date: long (nullable = true)\n",
            " |    |    |    |    |    |-- id: long (nullable = true)\n",
            " |    |    |    |    |    |-- lat: double (nullable = true)\n",
            " |    |    |    |    |    |-- long: double (nullable = true)\n",
            " |    |    |    |    |    |-- owner_id: long (nullable = true)\n",
            " |    |    |    |    |    |-- post_id: long (nullable = true)\n",
            " |    |    |    |    |    |-- sizes: array (nullable = true)\n",
            " |    |    |    |    |    |    |-- element: struct (containsNull = true)\n",
            " |    |    |    |    |    |    |    |-- height: long (nullable = true)\n",
            " |    |    |    |    |    |    |    |-- type: string (nullable = true)\n",
            " |    |    |    |    |    |    |    |-- url: string (nullable = true)\n",
            " |    |    |    |    |    |    |    |-- width: long (nullable = true)\n",
            " |    |    |    |    |    |-- text: string (nullable = true)\n",
            " |    |    |    |    |    |-- user_id: long (nullable = true)\n",
            " |    |    |    |    |-- podcast: struct (nullable = true)\n",
            " |    |    |    |    |    |-- artist: string (nullable = true)\n",
            " |    |    |    |    |    |-- date: long (nullable = true)\n",
            " |    |    |    |    |    |-- duration: long (nullable = true)\n",
            " |    |    |    |    |    |-- id: long (nullable = true)\n",
            " |    |    |    |    |    |-- lyrics_id: long (nullable = true)\n",
            " |    |    |    |    |    |-- no_search: long (nullable = true)\n",
            " |    |    |    |    |    |-- owner_id: long (nullable = true)\n",
            " |    |    |    |    |    |-- podcast_info: struct (nullable = true)\n",
            " |    |    |    |    |    |    |-- cover: struct (nullable = true)\n",
            " |    |    |    |    |    |    |    |-- sizes: array (nullable = true)\n",
            " |    |    |    |    |    |    |    |    |-- element: struct (containsNull = true)\n",
            " |    |    |    |    |    |    |    |    |    |-- height: long (nullable = true)\n",
            " |    |    |    |    |    |    |    |    |    |-- type: string (nullable = true)\n",
            " |    |    |    |    |    |    |    |    |    |-- url: string (nullable = true)\n",
            " |    |    |    |    |    |    |    |    |    |-- width: long (nullable = true)\n",
            " |    |    |    |    |    |    |-- description: string (nullable = true)\n",
            " |    |    |    |    |    |    |-- plays: long (nullable = true)\n",
            " |    |    |    |    |    |-- title: string (nullable = true)\n",
            " |    |    |    |    |    |-- url: string (nullable = true)\n",
            " |    |    |    |    |-- poll: struct (nullable = true)\n",
            " |    |    |    |    |    |-- anonymous: long (nullable = true)\n",
            " |    |    |    |    |    |-- answer_id: long (nullable = true)\n",
            " |    |    |    |    |    |-- answers: array (nullable = true)\n",
            " |    |    |    |    |    |    |-- element: struct (containsNull = true)\n",
            " |    |    |    |    |    |    |    |-- id: long (nullable = true)\n",
            " |    |    |    |    |    |    |    |-- rate: double (nullable = true)\n",
            " |    |    |    |    |    |    |    |-- text: string (nullable = true)\n",
            " |    |    |    |    |    |    |    |-- votes: long (nullable = true)\n",
            " |    |    |    |    |    |-- created: long (nullable = true)\n",
            " |    |    |    |    |    |-- id: long (nullable = true)\n",
            " |    |    |    |    |    |-- owner_id: long (nullable = true)\n",
            " |    |    |    |    |    |-- question: string (nullable = true)\n",
            " |    |    |    |    |    |-- votes: long (nullable = true)\n",
            " |    |    |    |    |-- type: string (nullable = true)\n",
            " |    |    |    |    |-- video: struct (nullable = true)\n",
            " |    |    |    |    |    |-- access_key: string (nullable = true)\n",
            " |    |    |    |    |    |-- album_id: long (nullable = true)\n",
            " |    |    |    |    |    |-- can_add: long (nullable = true)\n",
            " |    |    |    |    |    |-- comments: long (nullable = true)\n",
            " |    |    |    |    |    |-- date: long (nullable = true)\n",
            " |    |    |    |    |    |-- description: string (nullable = true)\n",
            " |    |    |    |    |    |-- duration: long (nullable = true)\n",
            " |    |    |    |    |    |-- first_frame_1024: string (nullable = true)\n",
            " |    |    |    |    |    |-- first_frame_1280: string (nullable = true)\n",
            " |    |    |    |    |    |-- first_frame_130: string (nullable = true)\n",
            " |    |    |    |    |    |-- first_frame_160: string (nullable = true)\n",
            " |    |    |    |    |    |-- first_frame_320: string (nullable = true)\n",
            " |    |    |    |    |    |-- first_frame_4096: string (nullable = true)\n",
            " |    |    |    |    |    |-- first_frame_720: string (nullable = true)\n",
            " |    |    |    |    |    |-- first_frame_800: string (nullable = true)\n",
            " |    |    |    |    |    |-- height: long (nullable = true)\n",
            " |    |    |    |    |    |-- id: long (nullable = true)\n",
            " |    |    |    |    |    |-- local_views: long (nullable = true)\n",
            " |    |    |    |    |    |-- owner_id: long (nullable = true)\n",
            " |    |    |    |    |    |-- photo_1280: string (nullable = true)\n",
            " |    |    |    |    |    |-- photo_130: string (nullable = true)\n",
            " |    |    |    |    |    |-- photo_320: string (nullable = true)\n",
            " |    |    |    |    |    |-- photo_640: string (nullable = true)\n",
            " |    |    |    |    |    |-- photo_800: string (nullable = true)\n",
            " |    |    |    |    |    |-- platform: string (nullable = true)\n",
            " |    |    |    |    |    |-- repeat: long (nullable = true)\n",
            " |    |    |    |    |    |-- title: string (nullable = true)\n",
            " |    |    |    |    |    |-- track_code: string (nullable = true)\n",
            " |    |    |    |    |    |-- user_id: long (nullable = true)\n",
            " |    |    |    |    |    |-- views: long (nullable = true)\n",
            " |    |    |    |    |    |-- width: long (nullable = true)\n",
            " |    |    |-- date: long (nullable = true)\n",
            " |    |    |-- from_id: long (nullable = true)\n",
            " |    |    |-- geo: struct (nullable = true)\n",
            " |    |    |    |-- coordinates: string (nullable = true)\n",
            " |    |    |    |-- place: struct (nullable = true)\n",
            " |    |    |    |    |-- city: string (nullable = true)\n",
            " |    |    |    |    |-- country: string (nullable = true)\n",
            " |    |    |    |    |-- created: long (nullable = true)\n",
            " |    |    |    |    |-- icon: string (nullable = true)\n",
            " |    |    |    |    |-- id: long (nullable = true)\n",
            " |    |    |    |    |-- latitude: double (nullable = true)\n",
            " |    |    |    |    |-- longitude: double (nullable = true)\n",
            " |    |    |    |    |-- title: string (nullable = true)\n",
            " |    |    |    |-- showmap: long (nullable = true)\n",
            " |    |    |    |-- type: string (nullable = true)\n",
            " |    |    |-- id: long (nullable = true)\n",
            " |    |    |-- owner_id: long (nullable = true)\n",
            " |    |    |-- post_source: struct (nullable = true)\n",
            " |    |    |    |-- data: string (nullable = true)\n",
            " |    |    |    |-- platform: string (nullable = true)\n",
            " |    |    |    |-- type: string (nullable = true)\n",
            " |    |    |-- post_type: string (nullable = true)\n",
            " |    |    |-- signer_id: long (nullable = true)\n",
            " |    |    |-- text: string (nullable = true)\n",
            " |-- copyright: struct (nullable = true)\n",
            " |    |-- id: long (nullable = true)\n",
            " |    |-- link: string (nullable = true)\n",
            " |    |-- name: string (nullable = true)\n",
            " |    |-- type: string (nullable = true)\n",
            " |-- date: long (nullable = true)\n",
            " |-- from_id: long (nullable = true)\n",
            " |-- geo: struct (nullable = true)\n",
            " |    |-- coordinates: string (nullable = true)\n",
            " |    |-- place: struct (nullable = true)\n",
            " |    |    |-- city: string (nullable = true)\n",
            " |    |    |-- country: string (nullable = true)\n",
            " |    |    |-- created: long (nullable = true)\n",
            " |    |    |-- icon: string (nullable = true)\n",
            " |    |    |-- id: long (nullable = true)\n",
            " |    |    |-- latitude: double (nullable = true)\n",
            " |    |    |-- longitude: double (nullable = true)\n",
            " |    |    |-- title: string (nullable = true)\n",
            " |    |-- showmap: long (nullable = true)\n",
            " |    |-- type: string (nullable = true)\n",
            " |-- id: long (nullable = true)\n",
            " |-- key: string (nullable = true)\n",
            " |-- likes: struct (nullable = true)\n",
            " |    |-- can_like: long (nullable = true)\n",
            " |    |-- can_publish: long (nullable = true)\n",
            " |    |-- count: long (nullable = true)\n",
            " |    |-- user_likes: long (nullable = true)\n",
            " |-- marked_as_ads: long (nullable = true)\n",
            " |-- owner_id: long (nullable = true)\n",
            " |-- post_source: struct (nullable = true)\n",
            " |    |-- data: string (nullable = true)\n",
            " |    |-- platform: string (nullable = true)\n",
            " |    |-- type: string (nullable = true)\n",
            " |-- post_type: string (nullable = true)\n",
            " |-- reposts: struct (nullable = true)\n",
            " |    |-- count: long (nullable = true)\n",
            " |    |-- user_reposted: long (nullable = true)\n",
            " |-- signer_id: long (nullable = true)\n",
            " |-- text: string (nullable = true)\n",
            " |-- unavailable: string (nullable = true)\n",
            " |-- views: struct (nullable = true)\n",
            " |    |-- count: long (nullable = true)\n",
            "\n"
          ],
          "name": "stdout"
        }
      ]
    },
    {
      "cell_type": "code",
      "metadata": {
        "id": "Yvp3HN3-rkK2"
      },
      "source": [
        "dfa=df.select(\"id\",\"likes.count\")"
      ],
      "execution_count": null,
      "outputs": []
    },
    {
      "cell_type": "code",
      "metadata": {
        "id": "C8wQMarKT8VZ"
      },
      "source": [
        "dfb=dfa.groupBy(\"id\").sum()"
      ],
      "execution_count": null,
      "outputs": []
    },
    {
      "cell_type": "code",
      "metadata": {
        "id": "3NaxokV2TswA"
      },
      "source": [
        "dfc=dfb.orderBy(dfb[\"sum(count)\"].desc())"
      ],
      "execution_count": null,
      "outputs": []
    },
    {
      "cell_type": "code",
      "metadata": {
        "colab": {
          "base_uri": "https://localhost:8080/"
        },
        "id": "MOWaBjB-ruwO",
        "outputId": "15546c1b-f218-4090-90ac-03d8af27e5be"
      },
      "source": [
        "dfc.show()"
      ],
      "execution_count": null,
      "outputs": [
        {
          "output_type": "stream",
          "text": [
            "+-----+-------+----------+\n",
            "|   id|sum(id)|sum(count)|\n",
            "+-----+-------+----------+\n",
            "|32022|  32022|      1637|\n",
            "|35068|  35068|      1629|\n",
            "|17492|  17492|      1516|\n",
            "|18526|  18526|      1026|\n",
            "|19552|  19552|       955|\n",
            "|41468|  41468|       952|\n",
            "|19419|  19419|       868|\n",
            "|29046|  29046|       824|\n",
            "|32546|  32546|       786|\n",
            "|24085|  24085|       765|\n",
            "|40180|  40180|       759|\n",
            "|33658|  33658|       708|\n",
            "|13532|  13532|       633|\n",
            "|40842|  40842|       631|\n",
            "|35117|  35117|       588|\n",
            "|17014|  17014|       581|\n",
            "|19583|  19583|       553|\n",
            "|19809|  19809|       552|\n",
            "|27455|  27455|       550|\n",
            "|11999|  11999|       549|\n",
            "+-----+-------+----------+\n",
            "only showing top 20 rows\n",
            "\n"
          ],
          "name": "stdout"
        }
      ]
    },
    {
      "cell_type": "markdown",
      "metadata": {
        "id": "qsreyE_Tr_pb"
      },
      "source": [
        "* Showing top 20 comments"
      ]
    },
    {
      "cell_type": "code",
      "metadata": {
        "id": "dhvLneRXrx11"
      },
      "source": [
        "df20commented=df.select(\"id\",\"comments.count\")"
      ],
      "execution_count": null,
      "outputs": []
    },
    {
      "cell_type": "code",
      "metadata": {
        "id": "QRPE4mP9sBPC"
      },
      "source": [
        "df20comm2=df20commented.groupBy(\"id\").sum()"
      ],
      "execution_count": null,
      "outputs": []
    },
    {
      "cell_type": "code",
      "metadata": {
        "id": "cwVZEJpIsFq7"
      },
      "source": [
        "df20comm3=df20comm2.orderBy(df20comm2[\"sum(count)\"].desc())"
      ],
      "execution_count": null,
      "outputs": []
    },
    {
      "cell_type": "code",
      "metadata": {
        "colab": {
          "base_uri": "https://localhost:8080/"
        },
        "id": "qw6gvS5isGgI",
        "outputId": "7ccba13f-91eb-42a5-d0ef-264dcef34c74"
      },
      "source": [
        "df20comm3.show()"
      ],
      "execution_count": null,
      "outputs": [
        {
          "output_type": "stream",
          "text": [
            "+-----+-------+----------+\n",
            "|   id|sum(id)|sum(count)|\n",
            "+-----+-------+----------+\n",
            "|24085|  24085|       850|\n",
            "|22540|  22540|       250|\n",
            "|27722|  27722|       192|\n",
            "| 8285|   8285|       148|\n",
            "|26860|  26860|       113|\n",
            "|13571|  13571|       107|\n",
            "|39294|  39294|       104|\n",
            "|36680|  36680|        96|\n",
            "|26006|  26006|        92|\n",
            "|41739|  41739|        92|\n",
            "|12426|  12426|        91|\n",
            "|21499|  21499|        88|\n",
            "|39163|  39163|        83|\n",
            "|39407|  39407|        83|\n",
            "|11267|  11267|        81|\n",
            "|31548|  31548|        80|\n",
            "|11158|  11158|        70|\n",
            "|39082|  39082|        67|\n",
            "|14602|  14602|        61|\n",
            "|12687|  12687|        61|\n",
            "+-----+-------+----------+\n",
            "only showing top 20 rows\n",
            "\n"
          ],
          "name": "stdout"
        }
      ]
    },
    {
      "cell_type": "markdown",
      "metadata": {
        "id": "GJ-lYJz9YVjU"
      },
      "source": [
        "* Showing top 20 repost"
      ]
    },
    {
      "cell_type": "code",
      "metadata": {
        "id": "Z4UjJeoHYVjX"
      },
      "source": [
        "df20reposted=df.select(\"id\",\"reposts.count\")"
      ],
      "execution_count": null,
      "outputs": []
    },
    {
      "cell_type": "code",
      "metadata": {
        "id": "wHPTh0UrYVjj"
      },
      "source": [
        "df20repo2=df20reposted.groupBy(\"id\").sum()"
      ],
      "execution_count": null,
      "outputs": []
    },
    {
      "cell_type": "code",
      "metadata": {
        "id": "_gSAw5BvYVjr"
      },
      "source": [
        "df20repo3=df20repo2.orderBy(df20repo2[\"sum(count)\"].desc())"
      ],
      "execution_count": null,
      "outputs": []
    },
    {
      "cell_type": "code",
      "metadata": {
        "id": "XMZU6r-0YVj0",
        "colab": {
          "base_uri": "https://localhost:8080/"
        },
        "outputId": "d5f96c1e-5b90-4bd0-8d54-c4c482b808ab"
      },
      "source": [
        "df20repo3.show()"
      ],
      "execution_count": null,
      "outputs": [
        {
          "output_type": "stream",
          "text": [
            "+-----+-------+----------+\n",
            "|   id|sum(id)|sum(count)|\n",
            "+-----+-------+----------+\n",
            "|17492|  17492|       334|\n",
            "|19552|  19552|       246|\n",
            "|32022|  32022|       210|\n",
            "|11842|  11842|       129|\n",
            "|19419|  19419|       126|\n",
            "|13532|  13532|       110|\n",
            "|17014|  17014|       105|\n",
            "|35068|  35068|       101|\n",
            "|41266|  41266|        92|\n",
            "|12593|  12593|        90|\n",
            "|29046|  29046|        87|\n",
            "|41468|  41468|        85|\n",
            "|11999|  11999|        85|\n",
            "|19809|  19809|        84|\n",
            "|17167|  17167|        81|\n",
            "|10833|  10833|        78|\n",
            "|18543|  18543|        77|\n",
            "|16596|  16596|        76|\n",
            "|18156|  18156|        74|\n",
            "|37262|  37262|        71|\n",
            "+-----+-------+----------+\n",
            "only showing top 20 rows\n",
            "\n"
          ],
          "name": "stdout"
        }
      ]
    },
    {
      "cell_type": "markdown",
      "metadata": {
        "id": "dTwZjgM2YVj-"
      },
      "source": [
        "# Task 2 "
      ]
    },
    {
      "cell_type": "code",
      "metadata": {
        "id": "ZfRaxrhdYVkA"
      },
      "source": [
        "df_t_2=spark.read.parquet(\"/content/drive/My Drive/abizer/bigdata20/posts_likes.parquet/a91f82d0-5d34-4236-be45-cf236be0daa4.parquet\")"
      ],
      "execution_count": null,
      "outputs": []
    },
    {
      "cell_type": "code",
      "metadata": {
        "id": "vUKRKB2xYVkI",
        "colab": {
          "base_uri": "https://localhost:8080/"
        },
        "outputId": "863ff5e0-5b04-474b-cb75-3a3e24c59ac0"
      },
      "source": [
        "df_t_2.printSchema()"
      ],
      "execution_count": null,
      "outputs": [
        {
          "output_type": "stream",
          "text": [
            "root\n",
            " |-- itemType: string (nullable = true)\n",
            " |-- ownerId: integer (nullable = true)\n",
            " |-- itemId: integer (nullable = true)\n",
            " |-- likerId: integer (nullable = true)\n",
            "\n"
          ],
          "name": "stdout"
        }
      ]
    },
    {
      "cell_type": "markdown",
      "metadata": {
        "id": "dR72VXTMd4rK"
      },
      "source": [
        "*showing top 20 20 users by likes"
      ]
    },
    {
      "cell_type": "code",
      "metadata": {
        "id": "eI20_w9yYVkO"
      },
      "source": [
        "df2=df_t_2.select([\"likerId\"])"
      ],
      "execution_count": null,
      "outputs": []
    },
    {
      "cell_type": "code",
      "metadata": {
        "id": "w6NaSA8cYVki"
      },
      "source": [
        "df3=df2.groupBy(\"likerId\").count()"
      ],
      "execution_count": null,
      "outputs": []
    },
    {
      "cell_type": "code",
      "metadata": {
        "id": "8zVzP0bqYVko",
        "colab": {
          "base_uri": "https://localhost:8080/"
        },
        "outputId": "1b6ffd23-c588-487a-f74f-ac460d286b17"
      },
      "source": [
        "df4=df3.orderBy(df3[\"count\"].desc()).show()"
      ],
      "execution_count": null,
      "outputs": [
        {
          "output_type": "stream",
          "text": [
            "+---------+-----+\n",
            "|  likerId|count|\n",
            "+---------+-----+\n",
            "|  2070090| 4801|\n",
            "|  2397858| 2055|\n",
            "|  1475301| 1829|\n",
            "|    18239| 1569|\n",
            "|   546612| 1245|\n",
            "|     6371|  907|\n",
            "|  1841959|  746|\n",
            "| 78440957|  709|\n",
            "|   120248|  699|\n",
            "| 40981497|  611|\n",
            "|    22158|  553|\n",
            "|207628162|  548|\n",
            "|329377723|  504|\n",
            "| 76071304|  474|\n",
            "| 14805173|  440|\n",
            "|   317799|  385|\n",
            "| 56355640|  375|\n",
            "| 52042971|  338|\n",
            "|  7437271|  336|\n",
            "|136506644|  335|\n",
            "+---------+-----+\n",
            "only showing top 20 rows\n",
            "\n"
          ],
          "name": "stdout"
        }
      ]
    },
    {
      "cell_type": "markdown",
      "metadata": {
        "id": "MymyC-kReIMN"
      },
      "source": [
        "*showing top 20 20 users by reposts"
      ]
    },
    {
      "cell_type": "code",
      "metadata": {
        "id": "VAArqcwDZV0X"
      },
      "source": [
        "dfrepost=df.select(col(\"id\"),col(\"copy_history.id\").alias(\"chid\"),\\\n",
        "    col(\"copy_history.owner_id\").alias(\"chowid\")).where(df.copy_history.isNotNull())"
      ],
      "execution_count": null,
      "outputs": []
    },
    {
      "cell_type": "code",
      "metadata": {
        "id": "oImsi-vMc0du"
      },
      "source": [
        "dfrepost1=dfrepost.select(\"chowid\",\"chid\")"
      ],
      "execution_count": null,
      "outputs": []
    },
    {
      "cell_type": "code",
      "metadata": {
        "id": "zL4q9KKrdT-E"
      },
      "source": [
        "dfrepost2=dfrepost1.groupBy(\"chowid\").count()"
      ],
      "execution_count": null,
      "outputs": []
    },
    {
      "cell_type": "code",
      "metadata": {
        "colab": {
          "base_uri": "https://localhost:8080/"
        },
        "id": "0apCmPXWdj7a",
        "outputId": "7b70ba3b-7992-4a86-cf67-dddf5ddb0c2a"
      },
      "source": [
        "dfrepost3=dfrepost2.orderBy(dfrepost2[\"count\"].desc()).show()"
      ],
      "execution_count": null,
      "outputs": [
        {
          "output_type": "stream",
          "text": [
            "+------------+-----+\n",
            "|      chowid|count|\n",
            "+------------+-----+\n",
            "|    [-33773]|  186|\n",
            "| [-76139618]|  144|\n",
            "| [-45636106]|   95|\n",
            "| [-53958282]|   70|\n",
            "| [-45660640]|   52|\n",
            "| [-97819925]|   46|\n",
            "|  [-2499902]|   44|\n",
            "|[-103229636]|   28|\n",
            "| [-94359346]|   26|\n",
            "| [-51664920]|   24|\n",
            "| [-46907025]|   23|\n",
            "|[-122783310]|   22|\n",
            "| [-78459300]|   21|\n",
            "|     [18239]|   20|\n",
            "| [-57339370]|   18|\n",
            "| [-45375087]|   17|\n",
            "|   [-644236]|   16|\n",
            "| [-23303030]|   16|\n",
            "|  [-3900734]|   14|\n",
            "| [-39268951]|   14|\n",
            "+------------+-----+\n",
            "only showing top 20 rows\n",
            "\n"
          ],
          "name": "stdout"
        }
      ]
    },
    {
      "cell_type": "markdown",
      "metadata": {
        "id": "Veodt4HRhYKg"
      },
      "source": [
        "# Task 3"
      ]
    },
    {
      "cell_type": "code",
      "metadata": {
        "id": "OdY5fhRGhhRu"
      },
      "source": [
        "df_t_3=spark.read.json(\"/content/drive/My Drive/abizer/bigdata20/followers_posts_api_final.json\")"
      ],
      "execution_count": null,
      "outputs": []
    },
    {
      "cell_type": "code",
      "metadata": {
        "colab": {
          "base_uri": "https://localhost:8080/"
        },
        "id": "b-tXJkQBw9SL",
        "outputId": "4a3c3ca8-8dc3-4148-a515-a7a88cecff71"
      },
      "source": [
        "df_t_3.printSchema()"
      ],
      "execution_count": null,
      "outputs": [
        {
          "output_type": "stream",
          "text": [
            "root\n",
            " |-- attachments: array (nullable = true)\n",
            " |    |-- element: struct (containsNull = true)\n",
            " |    |    |-- album: struct (nullable = true)\n",
            " |    |    |    |-- created: long (nullable = true)\n",
            " |    |    |    |-- description: string (nullable = true)\n",
            " |    |    |    |-- id: string (nullable = true)\n",
            " |    |    |    |-- owner_id: long (nullable = true)\n",
            " |    |    |    |-- size: long (nullable = true)\n",
            " |    |    |    |-- thumb: struct (nullable = true)\n",
            " |    |    |    |    |-- access_key: string (nullable = true)\n",
            " |    |    |    |    |-- album_id: long (nullable = true)\n",
            " |    |    |    |    |-- date: long (nullable = true)\n",
            " |    |    |    |    |-- id: long (nullable = true)\n",
            " |    |    |    |    |-- lat: double (nullable = true)\n",
            " |    |    |    |    |-- long: double (nullable = true)\n",
            " |    |    |    |    |-- owner_id: long (nullable = true)\n",
            " |    |    |    |    |-- sizes: array (nullable = true)\n",
            " |    |    |    |    |    |-- element: struct (containsNull = true)\n",
            " |    |    |    |    |    |    |-- height: long (nullable = true)\n",
            " |    |    |    |    |    |    |-- type: string (nullable = true)\n",
            " |    |    |    |    |    |    |-- url: string (nullable = true)\n",
            " |    |    |    |    |    |    |-- width: long (nullable = true)\n",
            " |    |    |    |    |-- text: string (nullable = true)\n",
            " |    |    |    |    |-- user_id: long (nullable = true)\n",
            " |    |    |    |-- title: string (nullable = true)\n",
            " |    |    |    |-- updated: long (nullable = true)\n",
            " |    |    |-- audio: struct (nullable = true)\n",
            " |    |    |    |-- album_id: long (nullable = true)\n",
            " |    |    |    |-- artist: string (nullable = true)\n",
            " |    |    |    |-- content_restricted: long (nullable = true)\n",
            " |    |    |    |-- date: long (nullable = true)\n",
            " |    |    |    |-- duration: long (nullable = true)\n",
            " |    |    |    |-- genre_id: long (nullable = true)\n",
            " |    |    |    |-- id: long (nullable = true)\n",
            " |    |    |    |-- is_hq: boolean (nullable = true)\n",
            " |    |    |    |-- lyrics_id: long (nullable = true)\n",
            " |    |    |    |-- no_search: long (nullable = true)\n",
            " |    |    |    |-- owner_id: long (nullable = true)\n",
            " |    |    |    |-- title: string (nullable = true)\n",
            " |    |    |    |-- url: string (nullable = true)\n",
            " |    |    |-- doc: struct (nullable = true)\n",
            " |    |    |    |-- access_key: string (nullable = true)\n",
            " |    |    |    |-- date: long (nullable = true)\n",
            " |    |    |    |-- ext: string (nullable = true)\n",
            " |    |    |    |-- id: long (nullable = true)\n",
            " |    |    |    |-- owner_id: long (nullable = true)\n",
            " |    |    |    |-- preview: struct (nullable = true)\n",
            " |    |    |    |    |-- photo: struct (nullable = true)\n",
            " |    |    |    |    |    |-- sizes: array (nullable = true)\n",
            " |    |    |    |    |    |    |-- element: struct (containsNull = true)\n",
            " |    |    |    |    |    |    |    |-- height: long (nullable = true)\n",
            " |    |    |    |    |    |    |    |-- src: string (nullable = true)\n",
            " |    |    |    |    |    |    |    |-- type: string (nullable = true)\n",
            " |    |    |    |    |    |    |    |-- width: long (nullable = true)\n",
            " |    |    |    |    |-- video: struct (nullable = true)\n",
            " |    |    |    |    |    |-- file_size: long (nullable = true)\n",
            " |    |    |    |    |    |-- height: long (nullable = true)\n",
            " |    |    |    |    |    |-- src: string (nullable = true)\n",
            " |    |    |    |    |    |-- width: long (nullable = true)\n",
            " |    |    |    |-- size: long (nullable = true)\n",
            " |    |    |    |-- title: string (nullable = true)\n",
            " |    |    |    |-- type: long (nullable = true)\n",
            " |    |    |    |-- url: string (nullable = true)\n",
            " |    |    |-- link: struct (nullable = true)\n",
            " |    |    |    |-- button: struct (nullable = true)\n",
            " |    |    |    |    |-- action: struct (nullable = true)\n",
            " |    |    |    |    |    |-- type: string (nullable = true)\n",
            " |    |    |    |    |    |-- url: string (nullable = true)\n",
            " |    |    |    |    |-- title: string (nullable = true)\n",
            " |    |    |    |-- button_action: string (nullable = true)\n",
            " |    |    |    |-- button_text: string (nullable = true)\n",
            " |    |    |    |-- caption: string (nullable = true)\n",
            " |    |    |    |-- description: string (nullable = true)\n",
            " |    |    |    |-- photo: struct (nullable = true)\n",
            " |    |    |    |    |-- album_id: long (nullable = true)\n",
            " |    |    |    |    |-- date: long (nullable = true)\n",
            " |    |    |    |    |-- id: long (nullable = true)\n",
            " |    |    |    |    |-- lat: double (nullable = true)\n",
            " |    |    |    |    |-- long: double (nullable = true)\n",
            " |    |    |    |    |-- owner_id: long (nullable = true)\n",
            " |    |    |    |    |-- post_id: long (nullable = true)\n",
            " |    |    |    |    |-- sizes: array (nullable = true)\n",
            " |    |    |    |    |    |-- element: struct (containsNull = true)\n",
            " |    |    |    |    |    |    |-- height: long (nullable = true)\n",
            " |    |    |    |    |    |    |-- src: string (nullable = true)\n",
            " |    |    |    |    |    |    |-- type: string (nullable = true)\n",
            " |    |    |    |    |    |    |-- url: string (nullable = true)\n",
            " |    |    |    |    |    |    |-- width: long (nullable = true)\n",
            " |    |    |    |    |-- src_big: string (nullable = true)\n",
            " |    |    |    |    |-- src_small: string (nullable = true)\n",
            " |    |    |    |    |-- text: string (nullable = true)\n",
            " |    |    |    |    |-- user_id: long (nullable = true)\n",
            " |    |    |    |-- target: string (nullable = true)\n",
            " |    |    |    |-- title: string (nullable = true)\n",
            " |    |    |    |-- url: string (nullable = true)\n",
            " |    |    |-- market: struct (nullable = true)\n",
            " |    |    |    |-- availability: long (nullable = true)\n",
            " |    |    |    |-- category: struct (nullable = true)\n",
            " |    |    |    |    |-- id: long (nullable = true)\n",
            " |    |    |    |    |-- name: string (nullable = true)\n",
            " |    |    |    |    |-- section: struct (nullable = true)\n",
            " |    |    |    |    |    |-- id: long (nullable = true)\n",
            " |    |    |    |    |    |-- name: string (nullable = true)\n",
            " |    |    |    |-- date: long (nullable = true)\n",
            " |    |    |    |-- description: string (nullable = true)\n",
            " |    |    |    |-- id: long (nullable = true)\n",
            " |    |    |    |-- owner_id: long (nullable = true)\n",
            " |    |    |    |-- price: struct (nullable = true)\n",
            " |    |    |    |    |-- amount: string (nullable = true)\n",
            " |    |    |    |    |-- currency: struct (nullable = true)\n",
            " |    |    |    |    |    |-- id: long (nullable = true)\n",
            " |    |    |    |    |    |-- name: string (nullable = true)\n",
            " |    |    |    |    |-- text: string (nullable = true)\n",
            " |    |    |    |-- thumb_photo: string (nullable = true)\n",
            " |    |    |    |-- title: string (nullable = true)\n",
            " |    |    |-- page: struct (nullable = true)\n",
            " |    |    |    |-- created: long (nullable = true)\n",
            " |    |    |    |-- creator_id: long (nullable = true)\n",
            " |    |    |    |-- current_user_can_edit: long (nullable = true)\n",
            " |    |    |    |-- current_user_can_edit_access: long (nullable = true)\n",
            " |    |    |    |-- edited: long (nullable = true)\n",
            " |    |    |    |-- editor_id: long (nullable = true)\n",
            " |    |    |    |-- group_id: long (nullable = true)\n",
            " |    |    |    |-- id: long (nullable = true)\n",
            " |    |    |    |-- title: string (nullable = true)\n",
            " |    |    |    |-- view_url: string (nullable = true)\n",
            " |    |    |    |-- views: long (nullable = true)\n",
            " |    |    |    |-- who_can_edit: long (nullable = true)\n",
            " |    |    |    |-- who_can_view: long (nullable = true)\n",
            " |    |    |-- photo: struct (nullable = true)\n",
            " |    |    |    |-- access_key: string (nullable = true)\n",
            " |    |    |    |-- album_id: long (nullable = true)\n",
            " |    |    |    |-- date: long (nullable = true)\n",
            " |    |    |    |-- id: long (nullable = true)\n",
            " |    |    |    |-- lat: double (nullable = true)\n",
            " |    |    |    |-- long: double (nullable = true)\n",
            " |    |    |    |-- owner_id: long (nullable = true)\n",
            " |    |    |    |-- post_id: long (nullable = true)\n",
            " |    |    |    |-- sizes: array (nullable = true)\n",
            " |    |    |    |    |-- element: struct (containsNull = true)\n",
            " |    |    |    |    |    |-- height: long (nullable = true)\n",
            " |    |    |    |    |    |-- type: string (nullable = true)\n",
            " |    |    |    |    |    |-- url: string (nullable = true)\n",
            " |    |    |    |    |    |-- width: long (nullable = true)\n",
            " |    |    |    |-- text: string (nullable = true)\n",
            " |    |    |    |-- user_id: long (nullable = true)\n",
            " |    |    |-- photos_list: array (nullable = true)\n",
            " |    |    |    |-- element: string (containsNull = true)\n",
            " |    |    |-- podcast: struct (nullable = true)\n",
            " |    |    |    |-- artist: string (nullable = true)\n",
            " |    |    |    |-- date: long (nullable = true)\n",
            " |    |    |    |-- duration: long (nullable = true)\n",
            " |    |    |    |-- id: long (nullable = true)\n",
            " |    |    |    |-- is_hq: boolean (nullable = true)\n",
            " |    |    |    |-- lyrics_id: long (nullable = true)\n",
            " |    |    |    |-- no_search: long (nullable = true)\n",
            " |    |    |    |-- owner_id: long (nullable = true)\n",
            " |    |    |    |-- podcast_info: struct (nullable = true)\n",
            " |    |    |    |    |-- cover: struct (nullable = true)\n",
            " |    |    |    |    |    |-- sizes: array (nullable = true)\n",
            " |    |    |    |    |    |    |-- element: struct (containsNull = true)\n",
            " |    |    |    |    |    |    |    |-- height: long (nullable = true)\n",
            " |    |    |    |    |    |    |    |-- type: string (nullable = true)\n",
            " |    |    |    |    |    |    |    |-- url: string (nullable = true)\n",
            " |    |    |    |    |    |    |    |-- width: long (nullable = true)\n",
            " |    |    |    |    |-- description: string (nullable = true)\n",
            " |    |    |    |    |-- plays: long (nullable = true)\n",
            " |    |    |    |-- title: string (nullable = true)\n",
            " |    |    |    |-- url: string (nullable = true)\n",
            " |    |    |-- poll: struct (nullable = true)\n",
            " |    |    |    |-- anonymous: long (nullable = true)\n",
            " |    |    |    |-- answer_id: long (nullable = true)\n",
            " |    |    |    |-- answers: array (nullable = true)\n",
            " |    |    |    |    |-- element: struct (containsNull = true)\n",
            " |    |    |    |    |    |-- id: long (nullable = true)\n",
            " |    |    |    |    |    |-- rate: double (nullable = true)\n",
            " |    |    |    |    |    |-- text: string (nullable = true)\n",
            " |    |    |    |    |    |-- votes: long (nullable = true)\n",
            " |    |    |    |-- created: long (nullable = true)\n",
            " |    |    |    |-- id: long (nullable = true)\n",
            " |    |    |    |-- owner_id: long (nullable = true)\n",
            " |    |    |    |-- question: string (nullable = true)\n",
            " |    |    |    |-- votes: long (nullable = true)\n",
            " |    |    |-- type: string (nullable = true)\n",
            " |    |    |-- video: struct (nullable = true)\n",
            " |    |    |    |-- access_key: string (nullable = true)\n",
            " |    |    |    |-- album_id: long (nullable = true)\n",
            " |    |    |    |-- can_add: long (nullable = true)\n",
            " |    |    |    |-- comments: long (nullable = true)\n",
            " |    |    |    |-- content_restricted: long (nullable = true)\n",
            " |    |    |    |-- date: long (nullable = true)\n",
            " |    |    |    |-- description: string (nullable = true)\n",
            " |    |    |    |-- duration: long (nullable = true)\n",
            " |    |    |    |-- first_frame_1024: string (nullable = true)\n",
            " |    |    |    |-- first_frame_1280: string (nullable = true)\n",
            " |    |    |    |-- first_frame_130: string (nullable = true)\n",
            " |    |    |    |-- first_frame_160: string (nullable = true)\n",
            " |    |    |    |-- first_frame_320: string (nullable = true)\n",
            " |    |    |    |-- first_frame_4096: string (nullable = true)\n",
            " |    |    |    |-- first_frame_720: string (nullable = true)\n",
            " |    |    |    |-- first_frame_800: string (nullable = true)\n",
            " |    |    |    |-- height: long (nullable = true)\n",
            " |    |    |    |-- id: long (nullable = true)\n",
            " |    |    |    |-- is_private: long (nullable = true)\n",
            " |    |    |    |-- live: long (nullable = true)\n",
            " |    |    |    |-- local_views: long (nullable = true)\n",
            " |    |    |    |-- owner_id: long (nullable = true)\n",
            " |    |    |    |-- photo_1280: string (nullable = true)\n",
            " |    |    |    |-- photo_130: string (nullable = true)\n",
            " |    |    |    |-- photo_320: string (nullable = true)\n",
            " |    |    |    |-- photo_640: string (nullable = true)\n",
            " |    |    |    |-- photo_800: string (nullable = true)\n",
            " |    |    |    |-- platform: string (nullable = true)\n",
            " |    |    |    |-- processing: long (nullable = true)\n",
            " |    |    |    |-- repeat: long (nullable = true)\n",
            " |    |    |    |-- spectators: long (nullable = true)\n",
            " |    |    |    |-- title: string (nullable = true)\n",
            " |    |    |    |-- track_code: string (nullable = true)\n",
            " |    |    |    |-- user_id: long (nullable = true)\n",
            " |    |    |    |-- views: long (nullable = true)\n",
            " |    |    |    |-- width: long (nullable = true)\n",
            " |-- comments: struct (nullable = true)\n",
            " |    |-- can_post: long (nullable = true)\n",
            " |    |-- count: long (nullable = true)\n",
            " |    |-- groups_can_post: boolean (nullable = true)\n",
            " |-- copy_history: array (nullable = true)\n",
            " |    |-- element: struct (containsNull = true)\n",
            " |    |    |-- attachments: array (nullable = true)\n",
            " |    |    |    |-- element: struct (containsNull = true)\n",
            " |    |    |    |    |-- album: struct (nullable = true)\n",
            " |    |    |    |    |    |-- created: long (nullable = true)\n",
            " |    |    |    |    |    |-- description: string (nullable = true)\n",
            " |    |    |    |    |    |-- id: string (nullable = true)\n",
            " |    |    |    |    |    |-- owner_id: long (nullable = true)\n",
            " |    |    |    |    |    |-- size: long (nullable = true)\n",
            " |    |    |    |    |    |-- thumb: struct (nullable = true)\n",
            " |    |    |    |    |    |    |-- access_key: string (nullable = true)\n",
            " |    |    |    |    |    |    |-- album_id: long (nullable = true)\n",
            " |    |    |    |    |    |    |-- date: long (nullable = true)\n",
            " |    |    |    |    |    |    |-- id: long (nullable = true)\n",
            " |    |    |    |    |    |    |-- lat: double (nullable = true)\n",
            " |    |    |    |    |    |    |-- long: double (nullable = true)\n",
            " |    |    |    |    |    |    |-- owner_id: long (nullable = true)\n",
            " |    |    |    |    |    |    |-- post_id: long (nullable = true)\n",
            " |    |    |    |    |    |    |-- sizes: array (nullable = true)\n",
            " |    |    |    |    |    |    |    |-- element: struct (containsNull = true)\n",
            " |    |    |    |    |    |    |    |    |-- height: long (nullable = true)\n",
            " |    |    |    |    |    |    |    |    |-- type: string (nullable = true)\n",
            " |    |    |    |    |    |    |    |    |-- url: string (nullable = true)\n",
            " |    |    |    |    |    |    |    |    |-- width: long (nullable = true)\n",
            " |    |    |    |    |    |    |-- text: string (nullable = true)\n",
            " |    |    |    |    |    |    |-- user_id: long (nullable = true)\n",
            " |    |    |    |    |    |-- title: string (nullable = true)\n",
            " |    |    |    |    |    |-- updated: long (nullable = true)\n",
            " |    |    |    |    |-- audio: struct (nullable = true)\n",
            " |    |    |    |    |    |-- album_id: long (nullable = true)\n",
            " |    |    |    |    |    |-- artist: string (nullable = true)\n",
            " |    |    |    |    |    |-- content_restricted: long (nullable = true)\n",
            " |    |    |    |    |    |-- date: long (nullable = true)\n",
            " |    |    |    |    |    |-- duration: long (nullable = true)\n",
            " |    |    |    |    |    |-- genre_id: long (nullable = true)\n",
            " |    |    |    |    |    |-- id: long (nullable = true)\n",
            " |    |    |    |    |    |-- is_hq: boolean (nullable = true)\n",
            " |    |    |    |    |    |-- lyrics_id: long (nullable = true)\n",
            " |    |    |    |    |    |-- no_search: long (nullable = true)\n",
            " |    |    |    |    |    |-- owner_id: long (nullable = true)\n",
            " |    |    |    |    |    |-- title: string (nullable = true)\n",
            " |    |    |    |    |    |-- url: string (nullable = true)\n",
            " |    |    |    |    |-- doc: struct (nullable = true)\n",
            " |    |    |    |    |    |-- access_key: string (nullable = true)\n",
            " |    |    |    |    |    |-- date: long (nullable = true)\n",
            " |    |    |    |    |    |-- ext: string (nullable = true)\n",
            " |    |    |    |    |    |-- id: long (nullable = true)\n",
            " |    |    |    |    |    |-- owner_id: long (nullable = true)\n",
            " |    |    |    |    |    |-- preview: struct (nullable = true)\n",
            " |    |    |    |    |    |    |-- graffiti: struct (nullable = true)\n",
            " |    |    |    |    |    |    |    |-- height: long (nullable = true)\n",
            " |    |    |    |    |    |    |    |-- src: string (nullable = true)\n",
            " |    |    |    |    |    |    |    |-- width: long (nullable = true)\n",
            " |    |    |    |    |    |    |-- photo: struct (nullable = true)\n",
            " |    |    |    |    |    |    |    |-- sizes: array (nullable = true)\n",
            " |    |    |    |    |    |    |    |    |-- element: struct (containsNull = true)\n",
            " |    |    |    |    |    |    |    |    |    |-- height: long (nullable = true)\n",
            " |    |    |    |    |    |    |    |    |    |-- src: string (nullable = true)\n",
            " |    |    |    |    |    |    |    |    |    |-- type: string (nullable = true)\n",
            " |    |    |    |    |    |    |    |    |    |-- width: long (nullable = true)\n",
            " |    |    |    |    |    |    |-- video: struct (nullable = true)\n",
            " |    |    |    |    |    |    |    |-- file_size: long (nullable = true)\n",
            " |    |    |    |    |    |    |    |-- height: long (nullable = true)\n",
            " |    |    |    |    |    |    |    |-- src: string (nullable = true)\n",
            " |    |    |    |    |    |    |    |-- width: long (nullable = true)\n",
            " |    |    |    |    |    |-- size: long (nullable = true)\n",
            " |    |    |    |    |    |-- title: string (nullable = true)\n",
            " |    |    |    |    |    |-- type: long (nullable = true)\n",
            " |    |    |    |    |    |-- url: string (nullable = true)\n",
            " |    |    |    |    |-- link: struct (nullable = true)\n",
            " |    |    |    |    |    |-- button: struct (nullable = true)\n",
            " |    |    |    |    |    |    |-- action: struct (nullable = true)\n",
            " |    |    |    |    |    |    |    |-- group_id: long (nullable = true)\n",
            " |    |    |    |    |    |    |    |-- type: string (nullable = true)\n",
            " |    |    |    |    |    |    |    |-- url: string (nullable = true)\n",
            " |    |    |    |    |    |    |-- title: string (nullable = true)\n",
            " |    |    |    |    |    |-- button_action: string (nullable = true)\n",
            " |    |    |    |    |    |-- button_text: string (nullable = true)\n",
            " |    |    |    |    |    |-- caption: string (nullable = true)\n",
            " |    |    |    |    |    |-- description: string (nullable = true)\n",
            " |    |    |    |    |    |-- photo: struct (nullable = true)\n",
            " |    |    |    |    |    |    |-- album_id: long (nullable = true)\n",
            " |    |    |    |    |    |    |-- date: long (nullable = true)\n",
            " |    |    |    |    |    |    |-- id: long (nullable = true)\n",
            " |    |    |    |    |    |    |-- lat: double (nullable = true)\n",
            " |    |    |    |    |    |    |-- long: double (nullable = true)\n",
            " |    |    |    |    |    |    |-- owner_id: long (nullable = true)\n",
            " |    |    |    |    |    |    |-- post_id: long (nullable = true)\n",
            " |    |    |    |    |    |    |-- sizes: array (nullable = true)\n",
            " |    |    |    |    |    |    |    |-- element: struct (containsNull = true)\n",
            " |    |    |    |    |    |    |    |    |-- height: long (nullable = true)\n",
            " |    |    |    |    |    |    |    |    |-- type: string (nullable = true)\n",
            " |    |    |    |    |    |    |    |    |-- url: string (nullable = true)\n",
            " |    |    |    |    |    |    |    |    |-- width: long (nullable = true)\n",
            " |    |    |    |    |    |    |-- text: string (nullable = true)\n",
            " |    |    |    |    |    |    |-- user_id: long (nullable = true)\n",
            " |    |    |    |    |    |-- product: struct (nullable = true)\n",
            " |    |    |    |    |    |    |-- price: struct (nullable = true)\n",
            " |    |    |    |    |    |    |    |-- amount: string (nullable = true)\n",
            " |    |    |    |    |    |    |    |-- currency: struct (nullable = true)\n",
            " |    |    |    |    |    |    |    |    |-- id: long (nullable = true)\n",
            " |    |    |    |    |    |    |    |    |-- name: string (nullable = true)\n",
            " |    |    |    |    |    |    |    |-- text: string (nullable = true)\n",
            " |    |    |    |    |    |-- target: string (nullable = true)\n",
            " |    |    |    |    |    |-- title: string (nullable = true)\n",
            " |    |    |    |    |    |-- url: string (nullable = true)\n",
            " |    |    |    |    |    |-- video: struct (nullable = true)\n",
            " |    |    |    |    |    |    |-- access_key: string (nullable = true)\n",
            " |    |    |    |    |    |    |-- can_add: long (nullable = true)\n",
            " |    |    |    |    |    |    |-- comments: long (nullable = true)\n",
            " |    |    |    |    |    |    |-- date: long (nullable = true)\n",
            " |    |    |    |    |    |    |-- description: string (nullable = true)\n",
            " |    |    |    |    |    |    |-- duration: long (nullable = true)\n",
            " |    |    |    |    |    |    |-- first_frame_1024: string (nullable = true)\n",
            " |    |    |    |    |    |    |-- first_frame_1280: string (nullable = true)\n",
            " |    |    |    |    |    |    |-- first_frame_130: string (nullable = true)\n",
            " |    |    |    |    |    |    |-- first_frame_160: string (nullable = true)\n",
            " |    |    |    |    |    |    |-- first_frame_320: string (nullable = true)\n",
            " |    |    |    |    |    |    |-- first_frame_4096: string (nullable = true)\n",
            " |    |    |    |    |    |    |-- first_frame_720: string (nullable = true)\n",
            " |    |    |    |    |    |    |-- first_frame_800: string (nullable = true)\n",
            " |    |    |    |    |    |    |-- height: long (nullable = true)\n",
            " |    |    |    |    |    |    |-- id: long (nullable = true)\n",
            " |    |    |    |    |    |    |-- owner_id: long (nullable = true)\n",
            " |    |    |    |    |    |    |-- photo_1280: string (nullable = true)\n",
            " |    |    |    |    |    |    |-- photo_130: string (nullable = true)\n",
            " |    |    |    |    |    |    |-- photo_320: string (nullable = true)\n",
            " |    |    |    |    |    |    |-- photo_800: string (nullable = true)\n",
            " |    |    |    |    |    |    |-- processing: long (nullable = true)\n",
            " |    |    |    |    |    |    |-- repeat: long (nullable = true)\n",
            " |    |    |    |    |    |    |-- title: string (nullable = true)\n",
            " |    |    |    |    |    |    |-- track_code: string (nullable = true)\n",
            " |    |    |    |    |    |    |-- views: long (nullable = true)\n",
            " |    |    |    |    |    |    |-- width: long (nullable = true)\n",
            " |    |    |    |    |-- market: struct (nullable = true)\n",
            " |    |    |    |    |    |-- availability: long (nullable = true)\n",
            " |    |    |    |    |    |-- category: struct (nullable = true)\n",
            " |    |    |    |    |    |    |-- id: long (nullable = true)\n",
            " |    |    |    |    |    |    |-- name: string (nullable = true)\n",
            " |    |    |    |    |    |    |-- section: struct (nullable = true)\n",
            " |    |    |    |    |    |    |    |-- id: long (nullable = true)\n",
            " |    |    |    |    |    |    |    |-- name: string (nullable = true)\n",
            " |    |    |    |    |    |-- date: long (nullable = true)\n",
            " |    |    |    |    |    |-- description: string (nullable = true)\n",
            " |    |    |    |    |    |-- id: long (nullable = true)\n",
            " |    |    |    |    |    |-- owner_id: long (nullable = true)\n",
            " |    |    |    |    |    |-- price: struct (nullable = true)\n",
            " |    |    |    |    |    |    |-- amount: string (nullable = true)\n",
            " |    |    |    |    |    |    |-- currency: struct (nullable = true)\n",
            " |    |    |    |    |    |    |    |-- id: long (nullable = true)\n",
            " |    |    |    |    |    |    |    |-- name: string (nullable = true)\n",
            " |    |    |    |    |    |    |-- text: string (nullable = true)\n",
            " |    |    |    |    |    |-- thumb_photo: string (nullable = true)\n",
            " |    |    |    |    |    |-- title: string (nullable = true)\n",
            " |    |    |    |    |-- market_album: struct (nullable = true)\n",
            " |    |    |    |    |    |-- count: long (nullable = true)\n",
            " |    |    |    |    |    |-- id: long (nullable = true)\n",
            " |    |    |    |    |    |-- owner_id: long (nullable = true)\n",
            " |    |    |    |    |    |-- photo: struct (nullable = true)\n",
            " |    |    |    |    |    |    |-- album_id: long (nullable = true)\n",
            " |    |    |    |    |    |    |-- date: long (nullable = true)\n",
            " |    |    |    |    |    |    |-- id: long (nullable = true)\n",
            " |    |    |    |    |    |    |-- owner_id: long (nullable = true)\n",
            " |    |    |    |    |    |    |-- sizes: array (nullable = true)\n",
            " |    |    |    |    |    |    |    |-- element: struct (containsNull = true)\n",
            " |    |    |    |    |    |    |    |    |-- height: long (nullable = true)\n",
            " |    |    |    |    |    |    |    |    |-- type: string (nullable = true)\n",
            " |    |    |    |    |    |    |    |    |-- url: string (nullable = true)\n",
            " |    |    |    |    |    |    |    |    |-- width: long (nullable = true)\n",
            " |    |    |    |    |    |    |-- text: string (nullable = true)\n",
            " |    |    |    |    |    |    |-- user_id: long (nullable = true)\n",
            " |    |    |    |    |    |-- title: string (nullable = true)\n",
            " |    |    |    |    |    |-- updated_time: long (nullable = true)\n",
            " |    |    |    |    |-- note: struct (nullable = true)\n",
            " |    |    |    |    |    |-- comments: long (nullable = true)\n",
            " |    |    |    |    |    |-- date: long (nullable = true)\n",
            " |    |    |    |    |    |-- id: long (nullable = true)\n",
            " |    |    |    |    |    |-- owner_id: long (nullable = true)\n",
            " |    |    |    |    |    |-- read_comments: long (nullable = true)\n",
            " |    |    |    |    |    |-- title: string (nullable = true)\n",
            " |    |    |    |    |    |-- view_url: string (nullable = true)\n",
            " |    |    |    |    |-- page: struct (nullable = true)\n",
            " |    |    |    |    |    |-- created: long (nullable = true)\n",
            " |    |    |    |    |    |-- creator_id: long (nullable = true)\n",
            " |    |    |    |    |    |-- current_user_can_edit: long (nullable = true)\n",
            " |    |    |    |    |    |-- current_user_can_edit_access: long (nullable = true)\n",
            " |    |    |    |    |    |-- edited: long (nullable = true)\n",
            " |    |    |    |    |    |-- editor_id: long (nullable = true)\n",
            " |    |    |    |    |    |-- group_id: long (nullable = true)\n",
            " |    |    |    |    |    |-- id: long (nullable = true)\n",
            " |    |    |    |    |    |-- parent: string (nullable = true)\n",
            " |    |    |    |    |    |-- parent2: string (nullable = true)\n",
            " |    |    |    |    |    |-- title: string (nullable = true)\n",
            " |    |    |    |    |    |-- view_url: string (nullable = true)\n",
            " |    |    |    |    |    |-- views: long (nullable = true)\n",
            " |    |    |    |    |    |-- who_can_edit: long (nullable = true)\n",
            " |    |    |    |    |    |-- who_can_view: long (nullable = true)\n",
            " |    |    |    |    |-- photo: struct (nullable = true)\n",
            " |    |    |    |    |    |-- access_key: string (nullable = true)\n",
            " |    |    |    |    |    |-- album_id: long (nullable = true)\n",
            " |    |    |    |    |    |-- date: long (nullable = true)\n",
            " |    |    |    |    |    |-- id: long (nullable = true)\n",
            " |    |    |    |    |    |-- lat: double (nullable = true)\n",
            " |    |    |    |    |    |-- long: double (nullable = true)\n",
            " |    |    |    |    |    |-- owner_id: long (nullable = true)\n",
            " |    |    |    |    |    |-- post_id: long (nullable = true)\n",
            " |    |    |    |    |    |-- sizes: array (nullable = true)\n",
            " |    |    |    |    |    |    |-- element: struct (containsNull = true)\n",
            " |    |    |    |    |    |    |    |-- height: long (nullable = true)\n",
            " |    |    |    |    |    |    |    |-- type: string (nullable = true)\n",
            " |    |    |    |    |    |    |    |-- url: string (nullable = true)\n",
            " |    |    |    |    |    |    |    |-- width: long (nullable = true)\n",
            " |    |    |    |    |    |-- text: string (nullable = true)\n",
            " |    |    |    |    |    |-- user_id: long (nullable = true)\n",
            " |    |    |    |    |-- photos_list: array (nullable = true)\n",
            " |    |    |    |    |    |-- element: string (containsNull = true)\n",
            " |    |    |    |    |-- podcast: struct (nullable = true)\n",
            " |    |    |    |    |    |-- artist: string (nullable = true)\n",
            " |    |    |    |    |    |-- date: long (nullable = true)\n",
            " |    |    |    |    |    |-- duration: long (nullable = true)\n",
            " |    |    |    |    |    |-- id: long (nullable = true)\n",
            " |    |    |    |    |    |-- is_explicit: boolean (nullable = true)\n",
            " |    |    |    |    |    |-- is_hq: boolean (nullable = true)\n",
            " |    |    |    |    |    |-- lyrics_id: long (nullable = true)\n",
            " |    |    |    |    |    |-- no_search: long (nullable = true)\n",
            " |    |    |    |    |    |-- owner_id: long (nullable = true)\n",
            " |    |    |    |    |    |-- podcast_info: struct (nullable = true)\n",
            " |    |    |    |    |    |    |-- cover: struct (nullable = true)\n",
            " |    |    |    |    |    |    |    |-- sizes: array (nullable = true)\n",
            " |    |    |    |    |    |    |    |    |-- element: struct (containsNull = true)\n",
            " |    |    |    |    |    |    |    |    |    |-- height: long (nullable = true)\n",
            " |    |    |    |    |    |    |    |    |    |-- type: string (nullable = true)\n",
            " |    |    |    |    |    |    |    |    |    |-- url: string (nullable = true)\n",
            " |    |    |    |    |    |    |    |    |    |-- width: long (nullable = true)\n",
            " |    |    |    |    |    |    |-- description: string (nullable = true)\n",
            " |    |    |    |    |    |    |-- plays: long (nullable = true)\n",
            " |    |    |    |    |    |-- title: string (nullable = true)\n",
            " |    |    |    |    |    |-- url: string (nullable = true)\n",
            " |    |    |    |    |-- poll: struct (nullable = true)\n",
            " |    |    |    |    |    |-- anonymous: long (nullable = true)\n",
            " |    |    |    |    |    |-- answer_id: long (nullable = true)\n",
            " |    |    |    |    |    |-- answers: array (nullable = true)\n",
            " |    |    |    |    |    |    |-- element: struct (containsNull = true)\n",
            " |    |    |    |    |    |    |    |-- id: long (nullable = true)\n",
            " |    |    |    |    |    |    |    |-- rate: double (nullable = true)\n",
            " |    |    |    |    |    |    |    |-- text: string (nullable = true)\n",
            " |    |    |    |    |    |    |    |-- votes: long (nullable = true)\n",
            " |    |    |    |    |    |-- created: long (nullable = true)\n",
            " |    |    |    |    |    |-- id: long (nullable = true)\n",
            " |    |    |    |    |    |-- owner_id: long (nullable = true)\n",
            " |    |    |    |    |    |-- question: string (nullable = true)\n",
            " |    |    |    |    |    |-- votes: long (nullable = true)\n",
            " |    |    |    |    |-- pretty_cards: struct (nullable = true)\n",
            " |    |    |    |    |    |-- cards: array (nullable = true)\n",
            " |    |    |    |    |    |    |-- element: struct (containsNull = true)\n",
            " |    |    |    |    |    |    |    |-- button: struct (nullable = true)\n",
            " |    |    |    |    |    |    |    |    |-- action: struct (nullable = true)\n",
            " |    |    |    |    |    |    |    |    |    |-- group_id: long (nullable = true)\n",
            " |    |    |    |    |    |    |    |    |    |-- target: string (nullable = true)\n",
            " |    |    |    |    |    |    |    |    |    |-- type: string (nullable = true)\n",
            " |    |    |    |    |    |    |    |    |    |-- url: string (nullable = true)\n",
            " |    |    |    |    |    |    |    |    |-- title: string (nullable = true)\n",
            " |    |    |    |    |    |    |    |-- card_id: string (nullable = true)\n",
            " |    |    |    |    |    |    |    |-- images: array (nullable = true)\n",
            " |    |    |    |    |    |    |    |    |-- element: struct (containsNull = true)\n",
            " |    |    |    |    |    |    |    |    |    |-- height: long (nullable = true)\n",
            " |    |    |    |    |    |    |    |    |    |-- url: string (nullable = true)\n",
            " |    |    |    |    |    |    |    |    |    |-- width: long (nullable = true)\n",
            " |    |    |    |    |    |    |    |-- link_url: string (nullable = true)\n",
            " |    |    |    |    |    |    |    |-- link_url_target: string (nullable = true)\n",
            " |    |    |    |    |    |    |    |-- photo: string (nullable = true)\n",
            " |    |    |    |    |    |    |    |-- price: string (nullable = true)\n",
            " |    |    |    |    |    |    |    |-- price_old: string (nullable = true)\n",
            " |    |    |    |    |    |    |    |-- title: string (nullable = true)\n",
            " |    |    |    |    |-- sticker: struct (nullable = true)\n",
            " |    |    |    |    |    |-- images: array (nullable = true)\n",
            " |    |    |    |    |    |    |-- element: struct (containsNull = true)\n",
            " |    |    |    |    |    |    |    |-- height: long (nullable = true)\n",
            " |    |    |    |    |    |    |    |-- url: string (nullable = true)\n",
            " |    |    |    |    |    |    |    |-- width: long (nullable = true)\n",
            " |    |    |    |    |    |-- images_with_background: array (nullable = true)\n",
            " |    |    |    |    |    |    |-- element: struct (containsNull = true)\n",
            " |    |    |    |    |    |    |    |-- height: long (nullable = true)\n",
            " |    |    |    |    |    |    |    |-- url: string (nullable = true)\n",
            " |    |    |    |    |    |    |    |-- width: long (nullable = true)\n",
            " |    |    |    |    |    |-- product_id: long (nullable = true)\n",
            " |    |    |    |    |    |-- sticker_id: long (nullable = true)\n",
            " |    |    |    |    |-- type: string (nullable = true)\n",
            " |    |    |    |    |-- video: struct (nullable = true)\n",
            " |    |    |    |    |    |-- access_key: string (nullable = true)\n",
            " |    |    |    |    |    |-- album_id: long (nullable = true)\n",
            " |    |    |    |    |    |-- can_add: long (nullable = true)\n",
            " |    |    |    |    |    |-- comments: long (nullable = true)\n",
            " |    |    |    |    |    |-- content_restricted: long (nullable = true)\n",
            " |    |    |    |    |    |-- date: long (nullable = true)\n",
            " |    |    |    |    |    |-- description: string (nullable = true)\n",
            " |    |    |    |    |    |-- duration: long (nullable = true)\n",
            " |    |    |    |    |    |-- first_frame_1024: string (nullable = true)\n",
            " |    |    |    |    |    |-- first_frame_1280: string (nullable = true)\n",
            " |    |    |    |    |    |-- first_frame_130: string (nullable = true)\n",
            " |    |    |    |    |    |-- first_frame_160: string (nullable = true)\n",
            " |    |    |    |    |    |-- first_frame_320: string (nullable = true)\n",
            " |    |    |    |    |    |-- first_frame_4096: string (nullable = true)\n",
            " |    |    |    |    |    |-- first_frame_720: string (nullable = true)\n",
            " |    |    |    |    |    |-- first_frame_800: string (nullable = true)\n",
            " |    |    |    |    |    |-- height: long (nullable = true)\n",
            " |    |    |    |    |    |-- id: long (nullable = true)\n",
            " |    |    |    |    |    |-- is_private: long (nullable = true)\n",
            " |    |    |    |    |    |-- live: long (nullable = true)\n",
            " |    |    |    |    |    |-- local_views: long (nullable = true)\n",
            " |    |    |    |    |    |-- owner_id: long (nullable = true)\n",
            " |    |    |    |    |    |-- photo_1280: string (nullable = true)\n",
            " |    |    |    |    |    |-- photo_130: string (nullable = true)\n",
            " |    |    |    |    |    |-- photo_320: string (nullable = true)\n",
            " |    |    |    |    |    |-- photo_640: string (nullable = true)\n",
            " |    |    |    |    |    |-- photo_800: string (nullable = true)\n",
            " |    |    |    |    |    |-- platform: string (nullable = true)\n",
            " |    |    |    |    |    |-- processing: long (nullable = true)\n",
            " |    |    |    |    |    |-- repeat: long (nullable = true)\n",
            " |    |    |    |    |    |-- spectators: long (nullable = true)\n",
            " |    |    |    |    |    |-- title: string (nullable = true)\n",
            " |    |    |    |    |    |-- track_code: string (nullable = true)\n",
            " |    |    |    |    |    |-- user_id: long (nullable = true)\n",
            " |    |    |    |    |    |-- views: long (nullable = true)\n",
            " |    |    |    |    |    |-- width: long (nullable = true)\n",
            " |    |    |-- date: long (nullable = true)\n",
            " |    |    |-- final_post: long (nullable = true)\n",
            " |    |    |-- from_id: long (nullable = true)\n",
            " |    |    |-- geo: struct (nullable = true)\n",
            " |    |    |    |-- coordinates: string (nullable = true)\n",
            " |    |    |    |-- place: struct (nullable = true)\n",
            " |    |    |    |    |-- address: string (nullable = true)\n",
            " |    |    |    |    |-- checkins: long (nullable = true)\n",
            " |    |    |    |    |-- city: string (nullable = true)\n",
            " |    |    |    |    |-- country: string (nullable = true)\n",
            " |    |    |    |    |-- created: long (nullable = true)\n",
            " |    |    |    |    |-- icon: string (nullable = true)\n",
            " |    |    |    |    |-- id: long (nullable = true)\n",
            " |    |    |    |    |-- latitude: double (nullable = true)\n",
            " |    |    |    |    |-- longitude: double (nullable = true)\n",
            " |    |    |    |    |-- title: string (nullable = true)\n",
            " |    |    |    |    |-- type: long (nullable = true)\n",
            " |    |    |    |-- showmap: long (nullable = true)\n",
            " |    |    |    |-- type: string (nullable = true)\n",
            " |    |    |-- id: long (nullable = true)\n",
            " |    |    |-- owner_id: long (nullable = true)\n",
            " |    |    |-- post_source: struct (nullable = true)\n",
            " |    |    |    |-- data: string (nullable = true)\n",
            " |    |    |    |-- link: struct (nullable = true)\n",
            " |    |    |    |    |-- description: string (nullable = true)\n",
            " |    |    |    |    |-- title: string (nullable = true)\n",
            " |    |    |    |    |-- url: string (nullable = true)\n",
            " |    |    |    |-- platform: string (nullable = true)\n",
            " |    |    |    |-- type: string (nullable = true)\n",
            " |    |    |    |-- url: string (nullable = true)\n",
            " |    |    |-- post_type: string (nullable = true)\n",
            " |    |    |-- reply_post_id: long (nullable = true)\n",
            " |    |    |-- signer_id: long (nullable = true)\n",
            " |    |    |-- text: string (nullable = true)\n",
            " |-- copyright: struct (nullable = true)\n",
            " |    |-- id: long (nullable = true)\n",
            " |    |-- link: string (nullable = true)\n",
            " |    |-- name: string (nullable = true)\n",
            " |    |-- type: string (nullable = true)\n",
            " |-- date: long (nullable = true)\n",
            " |-- final_post: long (nullable = true)\n",
            " |-- from_id: long (nullable = true)\n",
            " |-- geo: struct (nullable = true)\n",
            " |    |-- coordinates: string (nullable = true)\n",
            " |    |-- place: struct (nullable = true)\n",
            " |    |    |-- address: string (nullable = true)\n",
            " |    |    |-- checkins: long (nullable = true)\n",
            " |    |    |-- city: string (nullable = true)\n",
            " |    |    |-- country: string (nullable = true)\n",
            " |    |    |-- created: long (nullable = true)\n",
            " |    |    |-- icon: string (nullable = true)\n",
            " |    |    |-- id: long (nullable = true)\n",
            " |    |    |-- latitude: double (nullable = true)\n",
            " |    |    |-- longitude: double (nullable = true)\n",
            " |    |    |-- title: string (nullable = true)\n",
            " |    |    |-- type: long (nullable = true)\n",
            " |    |-- showmap: long (nullable = true)\n",
            " |    |-- type: string (nullable = true)\n",
            " |-- id: long (nullable = true)\n",
            " |-- is_pinned: long (nullable = true)\n",
            " |-- key: string (nullable = true)\n",
            " |-- likes: struct (nullable = true)\n",
            " |    |-- can_like: long (nullable = true)\n",
            " |    |-- can_publish: long (nullable = true)\n",
            " |    |-- count: long (nullable = true)\n",
            " |    |-- user_likes: long (nullable = true)\n",
            " |-- owner_id: long (nullable = true)\n",
            " |-- post_source: struct (nullable = true)\n",
            " |    |-- data: string (nullable = true)\n",
            " |    |-- link: struct (nullable = true)\n",
            " |    |    |-- description: string (nullable = true)\n",
            " |    |    |-- title: string (nullable = true)\n",
            " |    |    |-- url: string (nullable = true)\n",
            " |    |-- platform: string (nullable = true)\n",
            " |    |-- type: string (nullable = true)\n",
            " |    |-- url: string (nullable = true)\n",
            " |-- post_type: string (nullable = true)\n",
            " |-- reposts: struct (nullable = true)\n",
            " |    |-- count: long (nullable = true)\n",
            " |    |-- user_reposted: long (nullable = true)\n",
            " |-- signer_id: long (nullable = true)\n",
            " |-- text: string (nullable = true)\n",
            " |-- unavailable: string (nullable = true)\n",
            " |-- views: struct (nullable = true)\n",
            " |    |-- count: long (nullable = true)\n",
            "\n"
          ],
          "name": "stdout"
        }
      ]
    },
    {
      "cell_type": "code",
      "metadata": {
        "id": "ttTROVdxxIeP"
      },
      "source": [
        "df1=df.select(col(\"id\").alias(\"group_post_id\"),col(\"copy_history.id\").alias(\"user_post_ids\"))"
      ],
      "execution_count": null,
      "outputs": []
    },
    {
      "cell_type": "code",
      "metadata": {
        "id": "wd-atRLb0XQ3"
      },
      "source": [
        "df2=df1.orderBy(desc(size(\"user_post_ids\")),\"group_post_id\")"
      ],
      "execution_count": null,
      "outputs": []
    },
    {
      "cell_type": "code",
      "metadata": {
        "colab": {
          "base_uri": "https://localhost:8080/"
        },
        "id": "sN0hdj4Q0hNj",
        "outputId": "c4ece07c-523f-46a3-c236-ef639a3b2863"
      },
      "source": [
        "df2.show()"
      ],
      "execution_count": null,
      "outputs": [
        {
          "output_type": "stream",
          "text": [
            "+-------------+-------------+\n",
            "|group_post_id|user_post_ids|\n",
            "+-------------+-------------+\n",
            "|        14435|     [178, 3]|\n",
            "|        15040|    [234, 49]|\n",
            "|         9991|       [1078]|\n",
            "|         9993|       [1080]|\n",
            "|        10017|       [1083]|\n",
            "|        10024|       [1090]|\n",
            "|        10030|       [1098]|\n",
            "|        10031|       [1100]|\n",
            "|        10055|       [1123]|\n",
            "|        10067|       [1126]|\n",
            "|        10069|       [1129]|\n",
            "|        10090|       [1134]|\n",
            "|        10133|       [1141]|\n",
            "|        10141|       [1150]|\n",
            "|        10142|       [1151]|\n",
            "|        10155|       [1156]|\n",
            "|        10210|       [1163]|\n",
            "|        10213|       [1165]|\n",
            "|        10218|          [5]|\n",
            "|        10224|       [1168]|\n",
            "+-------------+-------------+\n",
            "only showing top 20 rows\n",
            "\n"
          ],
          "name": "stdout"
        }
      ]
    },
    {
      "cell_type": "markdown",
      "metadata": {
        "id": "cultural-front"
      },
      "source": [
        "# Task 4"
      ]
    },
    {
      "cell_type": "code",
      "metadata": {
        "colab": {
          "base_uri": "https://localhost:8080/"
        },
        "id": "zj-Dnm6Zq54c",
        "outputId": "8d630729-f485-4045-a6b2-58ea6fd34b30"
      },
      "source": [
        "!pip install emojis"
      ],
      "execution_count": null,
      "outputs": [
        {
          "output_type": "stream",
          "text": [
            "Collecting emojis\n",
            "  Downloading https://files.pythonhosted.org/packages/2e/94/61025e53488acd95b49862ec854e05b036f92fe9d0e512ca551a5a8b03d6/emojis-0.6.0-py3-none-any.whl\n",
            "Installing collected packages: emojis\n",
            "Successfully installed emojis-0.6.0\n"
          ],
          "name": "stdout"
        }
      ]
    },
    {
      "cell_type": "code",
      "metadata": {
        "scrolled": true,
        "id": "enabling-performance"
      },
      "source": [
        "import emoji"
      ],
      "execution_count": null,
      "outputs": []
    },
    {
      "cell_type": "code",
      "metadata": {
        "id": "HLjYJ2PexuJK"
      },
      "source": [
        "df_t_4=spark.read.json(\"/content/drive/My Drive/abizer/bigdata20/posts_api.json\")"
      ],
      "execution_count": 40,
      "outputs": []
    },
    {
      "cell_type": "code",
      "metadata": {
        "id": "noticed-qatar"
      },
      "source": [
        "def extract_emojis(text):\n",
        "    if text == None:\n",
        "        return []\n",
        "    return re.findall(erex, text)\n",
        "\n",
        "extract_emojis = udf(extract_emojis, returnType = ArrayType(StringType()))"
      ],
      "execution_count": 42,
      "outputs": []
    },
    {
      "cell_type": "code",
      "metadata": {
        "id": "operational-methodology"
      },
      "source": [
        "df1 = df_t_4.where(col('text').isNotNull()).select('id', F.explode(extract_emojis('text')).name('emojis'))"
      ],
      "execution_count": 43,
      "outputs": []
    },
    {
      "cell_type": "code",
      "metadata": {
        "id": "wrapped-organ",
        "colab": {
          "base_uri": "https://localhost:8080/"
        },
        "outputId": "db52394c-ec60-4119-a354-caa8acf94419"
      },
      "source": [
        "df1.show()"
      ],
      "execution_count": 44,
      "outputs": [
        {
          "output_type": "stream",
          "text": [
            "+-----+------+\n",
            "|   id|emojis|\n",
            "+-----+------+\n",
            "|17381|    🎄|\n",
            "|17381|    🎄|\n",
            "|42270|    📸|\n",
            "|42273|     ⚡|\n",
            "|42281|    🚀|\n",
            "|42292|    🔮|\n",
            "|42298|    🚀|\n",
            "|42302|    🏕|\n",
            "|42313|    💫|\n",
            "|42315|     ♥|\n",
            "|42316|    🔥|\n",
            "|42321|    🚀|\n",
            "|42324|    🔥|\n",
            "|42328|    🚲|\n",
            "|42328|    🧡|\n",
            "|42334|    💙|\n",
            "|42345|    💙|\n",
            "|42347|    📸|\n",
            "|42177|     ❤|\n",
            "|42180|    🎤|\n",
            "+-----+------+\n",
            "only showing top 20 rows\n",
            "\n"
          ],
          "name": "stdout"
        }
      ]
    },
    {
      "cell_type": "code",
      "metadata": {
        "id": "needed-suspension"
      },
      "source": [
        "df2 = df1.groupby('id').agg(F.collect_list('emojis').alias('enojis_list'),\\\n",
        "                                           F.count('emojis').alias('total_emojis'))"
      ],
      "execution_count": 45,
      "outputs": []
    },
    {
      "cell_type": "code",
      "metadata": {
        "id": "signal-drill",
        "colab": {
          "base_uri": "https://localhost:8080/"
        },
        "outputId": "4fabc9e3-7c56-4fa0-819e-c8a917e4cdde"
      },
      "source": [
        "df2.show()"
      ],
      "execution_count": 66,
      "outputs": [
        {
          "output_type": "stream",
          "text": [
            "+-----+--------------------+------------+\n",
            "|   id|         enojis_list|total_emojis|\n",
            "+-----+--------------------+------------+\n",
            "|41424|                [🔮]|           1|\n",
            "|41862|                [🔥]|           1|\n",
            "|42388|                [🚀]|           1|\n",
            "|39763|                 [❤]|           1|\n",
            "|37014|         [📣, ⚽, 🏅]|           3|\n",
            "|37117|        [🔵, 🔵, 🔵]|           3|\n",
            "|40989|                [💥]|           1|\n",
            "|33024|            [📍, 📝]|           2|\n",
            "|40506|                [🕹]|           1|\n",
            "|41533|                [🤖]|           1|\n",
            "|29752|[🚀, 🔴, 🔴, 🔴, ...|           7|\n",
            "|40011|            [🥳, 💙]|           2|\n",
            "|16596|             [✔, 🎈]|           2|\n",
            "|39259|                [💙]|           1|\n",
            "|40925|              [💪🏻]|           1|\n",
            "|41096|                [🔥]|           1|\n",
            "|34575|[🇩🇪, 🇩🇪, 🇩🇪...|           8|\n",
            "|40512|                [📸]|           1|\n",
            "|40609|                [🤖]|           1|\n",
            "|41888|        [📍, 📍, 📍]|           3|\n",
            "+-----+--------------------+------------+\n",
            "only showing top 20 rows\n",
            "\n"
          ],
          "name": "stdout"
        }
      ]
    },
    {
      "cell_type": "code",
      "metadata": {
        "id": "integral-mechanics"
      },
      "source": [
        "df3 = emoji_list.groupby('emojis').agg(F.count('emojis').alias('emojis_count'), \\\n",
        "                                                  F.collect_set('id').alias('id_list')).\\\n",
        "withColumn('total_posts', F.size(F.col('id_list'))).\\\n",
        "withColumn('difference', F.col('emojis_count') - F.col('total_posts')).\\\n",
        "withColumn('avg_count', F.col('emojis_count')/F.col('total_posts'))"
      ],
      "execution_count": 82,
      "outputs": []
    },
    {
      "cell_type": "markdown",
      "metadata": {
        "id": "placed-headset"
      },
      "source": [
        "* Top 10 most popular emoji"
      ]
    },
    {
      "cell_type": "code",
      "metadata": {
        "colab": {
          "base_uri": "https://localhost:8080/"
        },
        "id": "o3s5awhi01s8",
        "outputId": "5ac2c4a6-2c06-4ffc-9aa0-ef00b4719ea2"
      },
      "source": [
        "df3.select('emojis','emojis_count').orderBy(df3[\"emojis_count\"].desc()).show(10)"
      ],
      "execution_count": 88,
      "outputs": [
        {
          "output_type": "stream",
          "text": [
            "+------+------------+\n",
            "|emojis|emojis_count|\n",
            "+------+------------+\n",
            "|    🔥|          76|\n",
            "|     ⚡|          68|\n",
            "|    📍|          63|\n",
            "|    🚀|          50|\n",
            "|     ❤|          47|\n",
            "|     ❗|          45|\n",
            "|    🏻|          44|\n",
            "|     ⬇|          40|\n",
            "|     ✔|          40|\n",
            "|    🔵|          40|\n",
            "+------+------------+\n",
            "only showing top 10 rows\n",
            "\n"
          ],
          "name": "stdout"
        }
      ]
    },
    {
      "cell_type": "markdown",
      "metadata": {
        "id": "abroad-judge"
      },
      "source": [
        "* top 5 emoticons which have the greatest difference between their overall count and frequency"
      ]
    },
    {
      "cell_type": "code",
      "metadata": {
        "id": "heard-hawaii",
        "colab": {
          "base_uri": "https://localhost:8080/"
        },
        "outputId": "84d3a1dc-a708-42d6-e29b-1da4f814b918"
      },
      "source": [
        "df3.select('emojis').orderBy(df3[\"difference\"].desc()).show(5)"
      ],
      "execution_count": 89,
      "outputs": [
        {
          "output_type": "stream",
          "text": [
            "+------+\n",
            "|emojis|\n",
            "+------+\n",
            "|     ✔|\n",
            "|     ❗|\n",
            "|    📍|\n",
            "|     ⬇|\n",
            "|     ⚡|\n",
            "+------+\n",
            "only showing top 5 rows\n",
            "\n"
          ],
          "name": "stdout"
        }
      ]
    },
    {
      "cell_type": "markdown",
      "metadata": {
        "id": "unlimited-opinion"
      },
      "source": [
        "* top 5 emoticons with average count per post."
      ]
    },
    {
      "cell_type": "code",
      "metadata": {
        "id": "korean-thread",
        "colab": {
          "base_uri": "https://localhost:8080/"
        },
        "outputId": "37bee161-dd3d-42ad-93e2-5241b2587c48"
      },
      "source": [
        "df3.select('emojis').orderBy(df3[\"avg_count\"].desc()).show(5)"
      ],
      "execution_count": 87,
      "outputs": [
        {
          "output_type": "stream",
          "text": [
            "+------+\n",
            "|emojis|\n",
            "+------+\n",
            "|     ✔|\n",
            "|    🔹|\n",
            "|     ▪|\n",
            "|     ✒|\n",
            "|    📷|\n",
            "+------+\n",
            "only showing top 5 rows\n",
            "\n"
          ],
          "name": "stdout"
        }
      ]
    },
    {
      "cell_type": "markdown",
      "metadata": {
        "id": "RV_ybA4kKV2S"
      },
      "source": [
        "# Task 5"
      ]
    },
    {
      "cell_type": "code",
      "metadata": {
        "id": "A1rtWVyyKzQQ"
      },
      "source": [
        "from pyspark.sql.window import Window"
      ],
      "execution_count": null,
      "outputs": []
    },
    {
      "cell_type": "code",
      "metadata": {
        "id": "xUT0384qvKpg"
      },
      "source": [
        "df_t_5=spark.read.parquet(\"/content/drive/My Drive/abizer/bigdata20/followers_posts_likes.parquet\")"
      ],
      "execution_count": null,
      "outputs": []
    },
    {
      "cell_type": "code",
      "metadata": {
        "id": "5NnSQ8lCHkmD"
      },
      "source": [
        "df1=df_t_5.withColumn(\"cnt\", count(\"itemId\").over(Window.partitionBy(\"ownerId\", \"likerId\")))\n",
        "df1=df1.select(\"ownerId\",\"likerId\",\"cnt\").distinct()\\\n",
        ".withColumn(\"top\",row_number().over(Window.partitionBy(\"ownerId\").orderBy(desc(\"cnt\"),\"likerId\")))\\\n",
        ".where(\"top<=10\")\\\n",
        ".orderBy(\"ownerId\",\"top\")"
      ],
      "execution_count": null,
      "outputs": []
    },
    {
      "cell_type": "code",
      "metadata": {
        "colab": {
          "base_uri": "https://localhost:8080/"
        },
        "id": "r1lf6px7llD_",
        "outputId": "36c78ce0-d1fe-4e42-f36c-e43241016e8c"
      },
      "source": [
        "df1.show()"
      ],
      "execution_count": null,
      "outputs": [
        {
          "output_type": "stream",
          "text": [
            "+-------+---------+---+---+\n",
            "|ownerId|  likerId|cnt|top|\n",
            "+-------+---------+---+---+\n",
            "|    637|   422527| 24|  1|\n",
            "|    637| 13237321| 21|  2|\n",
            "|    637|   162706| 20|  3|\n",
            "|    637|   392577| 16|  4|\n",
            "|    637|151081369| 16|  5|\n",
            "|    637| 49547307| 15|  6|\n",
            "|    637|145422426| 15|  7|\n",
            "|    637|   407844| 14|  8|\n",
            "|    637|    94399| 13|  9|\n",
            "|    637|   359267| 13| 10|\n",
            "|   1087|     1087| 49|  1|\n",
            "|   1087| 84798348| 48|  2|\n",
            "|   1087|354351777| 30|  3|\n",
            "|   1087|230753056| 26|  4|\n",
            "|   1087|255139140| 23|  5|\n",
            "|   1087|499354771| 22|  6|\n",
            "|   1087|284012417| 21|  7|\n",
            "|   1087|485044721| 20|  8|\n",
            "|   1087|506643152| 20|  9|\n",
            "|   1087|174240414| 19| 10|\n",
            "+-------+---------+---+---+\n",
            "only showing top 20 rows\n",
            "\n"
          ],
          "name": "stdout"
        }
      ]
    },
    {
      "cell_type": "markdown",
      "metadata": {
        "id": "TP2A2wvSma72"
      },
      "source": [
        "# Task 6"
      ]
    },
    {
      "cell_type": "code",
      "metadata": {
        "colab": {
          "base_uri": "https://localhost:8080/"
        },
        "id": "2L7qqxqamlJI",
        "outputId": "3d17709b-4305-41f9-ea8c-51f18140348c"
      },
      "source": [
        "df2=df1.where(\"top=1\")\n",
        "df2.show()"
      ],
      "execution_count": null,
      "outputs": [
        {
          "output_type": "stream",
          "text": [
            "+-------+---------+---+---+\n",
            "|ownerId|  likerId|cnt|top|\n",
            "+-------+---------+---+---+\n",
            "|    637|   422527| 24|  1|\n",
            "|   1087|     1087| 49|  1|\n",
            "|   1119|     1099|  1|  1|\n",
            "|   1127|246350941| 31|  1|\n",
            "|   1174|451427327| 16|  1|\n",
            "|   1567|  5274303| 84|  1|\n",
            "|   1632|    42940|  1|  1|\n",
            "|   1669|   422440|  6|  1|\n",
            "|   2212|   205235|  5|  1|\n",
            "|   2718|     1105|  1|  1|\n",
            "|   2976| 23030661|  4|  1|\n",
            "|   3420|356612085| 24|  1|\n",
            "|   3768| 25068229|  1|  1|\n",
            "|   3868|     3868|  1|  1|\n",
            "|   3972|    86086|  7|  1|\n",
            "|   4023|   535074| 11|  1|\n",
            "|   4107|     6707|  2|  1|\n",
            "|   4990|260110521| 20|  1|\n",
            "|   5630|     5630| 17|  1|\n",
            "|   5648| 88073599|  8|  1|\n",
            "+-------+---------+---+---+\n",
            "only showing top 20 rows\n",
            "\n"
          ],
          "name": "stdout"
        }
      ]
    },
    {
      "cell_type": "code",
      "metadata": {
        "id": "oVx7yl4XxfVq"
      },
      "source": [
        "df3=df2.withColumnRenamed('ownerId', 'ownerId2')\\\n",
        "  .join(\n",
        "    df2.withColumnRenamed('likerId', 'likerId2'), \n",
        "    on=[col('likerId') == col('ownerId'), col('ownerId2') == col('likerId2')])"
      ],
      "execution_count": null,
      "outputs": []
    },
    {
      "cell_type": "code",
      "metadata": {
        "colab": {
          "base_uri": "https://localhost:8080/"
        },
        "id": "khDQzlsO9YCk",
        "outputId": "cc7a0050-089d-4d80-f2d9-70e3c67e6ef1"
      },
      "source": [
        "df3.show()"
      ],
      "execution_count": null,
      "outputs": [
        {
          "output_type": "stream",
          "text": [
            "+---------+---------+---+---+---------+---------+---+---+\n",
            "| ownerId2|  likerId|cnt|top|  ownerId| likerId2|cnt|top|\n",
            "+---------+---------+---+---+---------+---------+---+---+\n",
            "|  6386424|  6386424| 17|  1|  6386424|  6386424| 17|  1|\n",
            "|  7386340|  7386340|  3|  1|  7386340|  7386340|  3|  1|\n",
            "| 63394933| 63394933|  6|  1| 63394933| 63394933|  6|  1|\n",
            "|155296651|155296651|  2|  1|155296651|155296651|  2|  1|\n",
            "|160555450|160555450|  2|  1|160555450|160555450|  2|  1|\n",
            "|258348451|258348451|173|  1|258348451|258348451|173|  1|\n",
            "|272076217|209077977| 40|  1|209077977|272076217| 18|  1|\n",
            "|  2393612|  2393612|  6|  1|  2393612|  2393612|  6|  1|\n",
            "| 12045806| 12045806|  2|  1| 12045806| 12045806|  2|  1|\n",
            "| 44208335| 44208335|  8|  1| 44208335| 44208335|  8|  1|\n",
            "| 44395726| 44395726|  1|  1| 44395726| 44395726|  1|  1|\n",
            "|136034317|136034317| 15|  1|136034317|136034317| 15|  1|\n",
            "|174926957|174926957| 71|  1|174926957|174926957| 71|  1|\n",
            "|266328305|266328305|  3|  1|266328305|266328305|  3|  1|\n",
            "|320719214|320719214| 30|  1|320719214|320719214| 30|  1|\n",
            "|360354954|360354954|  1|  1|360354954|360354954|  1|  1|\n",
            "|473147220|473147220| 13|  1|473147220|473147220| 13|  1|\n",
            "|   276997|   276997|  1|  1|   276997|   276997|  1|  1|\n",
            "| 62049470| 62049470| 82|  1| 62049470| 62049470| 82|  1|\n",
            "|151800267|151800267| 18|  1|151800267|151800267| 18|  1|\n",
            "+---------+---------+---+---+---------+---------+---+---+\n",
            "only showing top 20 rows\n",
            "\n"
          ],
          "name": "stdout"
        }
      ]
    },
    {
      "cell_type": "code",
      "metadata": {
        "id": "Wi_5BYnUBP_8"
      },
      "source": [
        "df4=df3.where(col('ownerId2') != col('likerId'))\\\n",
        "  .select(col('ownerId'), col('likerId2'))"
      ],
      "execution_count": null,
      "outputs": []
    },
    {
      "cell_type": "code",
      "metadata": {
        "colab": {
          "base_uri": "https://localhost:8080/"
        },
        "id": "v0CkOjLKCL5-",
        "outputId": "3b73a076-e6a9-493d-f22e-b3f835a71b34"
      },
      "source": [
        "df4.show()"
      ],
      "execution_count": null,
      "outputs": [
        {
          "output_type": "stream",
          "text": [
            "+---------+---------+\n",
            "|  ownerId| likerId2|\n",
            "+---------+---------+\n",
            "|209077977|272076217|\n",
            "|180062188|205353671|\n",
            "|235077877|  3413929|\n",
            "|272076217|209077977|\n",
            "|170671147| 38160061|\n",
            "| 38160061|170671147|\n",
            "|   159389|264743483|\n",
            "|106247308| 67050872|\n",
            "|  3413929|235077877|\n",
            "| 30583016| 25475641|\n",
            "|264743483|   159389|\n",
            "|115252127| 83892412|\n",
            "|204600866| 96882448|\n",
            "|165580957|371026267|\n",
            "|313489913|307593556|\n",
            "| 83892412|115252127|\n",
            "| 53720099| 52612744|\n",
            "| 67050872|106247308|\n",
            "|512140188|500307966|\n",
            "|500307966|512140188|\n",
            "+---------+---------+\n",
            "only showing top 20 rows\n",
            "\n"
          ],
          "name": "stdout"
        }
      ]
    }
  ]
}